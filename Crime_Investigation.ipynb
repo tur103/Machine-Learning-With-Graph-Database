{
  "nbformat": 4,
  "nbformat_minor": 0,
  "metadata": {
    "colab": {
      "name": "Crime_Investigation.ipynb",
      "provenance": [],
      "collapsed_sections": [],
      "authorship_tag": "ABX9TyOGV8YsisZcAxzFcn8wc7bt",
      "include_colab_link": true
    },
    "kernelspec": {
      "name": "python3",
      "display_name": "Python 3"
    }
  },
  "cells": [
    {
      "cell_type": "markdown",
      "metadata": {
        "id": "view-in-github",
        "colab_type": "text"
      },
      "source": [
        "<a href=\"https://colab.research.google.com/github/tur103/Machine-Learning-With-Graph-Database/blob/master/Crime_Investigation.ipynb\" target=\"_parent\"><img src=\"https://colab.research.google.com/assets/colab-badge.svg\" alt=\"Open In Colab\"/></a>"
      ]
    },
    {
      "cell_type": "markdown",
      "metadata": {
        "id": "qjmwbSZ8RaX9",
        "colab_type": "text"
      },
      "source": [
        "# Crime Investigation"
      ]
    },
    {
      "cell_type": "markdown",
      "metadata": {
        "id": "oOrAsnZ0XFKN",
        "colab_type": "text"
      },
      "source": [
        "Setup the environment"
      ]
    },
    {
      "cell_type": "code",
      "metadata": {
        "id": "X_wqwtjr8UIa",
        "colab_type": "code",
        "colab": {}
      },
      "source": [
        "!pip install py2neo==4.1.3 pandas matplotlib sklearn"
      ],
      "execution_count": 0,
      "outputs": []
    },
    {
      "cell_type": "code",
      "metadata": {
        "id": "xKMAJsAo8Yie",
        "colab_type": "code",
        "colab": {}
      },
      "source": [
        "from py2neo import Graph\n",
        "import pandas as pd\n",
        "import statistics\n",
        "\n",
        "import matplotlib \n",
        "import matplotlib.pyplot as plt\n",
        "\n",
        "plt.style.use('fivethirtyeight')\n",
        "pd.set_option('display.float_format', lambda x: '%.3f' % x)\n",
        "\n",
        "import pandas as pd\n",
        "from collections import Counter\n",
        "from sklearn.ensemble import RandomForestClassifier\n",
        "\n",
        "from sklearn.metrics import recall_score\n",
        "from sklearn.metrics import precision_score\n",
        "from sklearn.metrics import accuracy_score"
      ],
      "execution_count": 0,
      "outputs": []
    },
    {
      "cell_type": "markdown",
      "metadata": {
        "id": "_fXKLE3Oq40b",
        "colab_type": "text"
      },
      "source": [
        "Neo4j sandbox -> Crime Investigation, is used"
      ]
    },
    {
      "cell_type": "code",
      "metadata": {
        "id": "RXrx6WTE8Z4n",
        "colab_type": "code",
        "colab": {}
      },
      "source": [
        "graph = Graph(\"bolt://34.239.207.167:33768\", auth=(\"neo4j\", \"display-suns-grids\"))"
      ],
      "execution_count": 0,
      "outputs": []
    },
    {
      "cell_type": "markdown",
      "metadata": {
        "id": "1csnEHOFItb9",
        "colab_type": "text"
      },
      "source": [
        "## Find Vulnerable People At High Risk Of Being Part Of A Crime"
      ]
    },
    {
      "cell_type": "markdown",
      "metadata": {
        "id": "MTX1Li0XrfWX",
        "colab_type": "text"
      },
      "source": [
        "Machine Learning using Graph Database for predicting near future crime victims "
      ]
    },
    {
      "cell_type": "markdown",
      "metadata": {
        "id": "nQvfDRW1RTxN",
        "colab_type": "text"
      },
      "source": [
        "### Setup Data Model"
      ]
    },
    {
      "cell_type": "markdown",
      "metadata": {
        "id": "bMCbAxI_rCgy",
        "colab_type": "text"
      },
      "source": [
        "Create crime association relationships"
      ]
    },
    {
      "cell_type": "code",
      "metadata": {
        "id": "vE2OarLKQfjO",
        "colab_type": "code",
        "colab": {}
      },
      "source": [
        "crime_relationships = \"\"\"\n",
        "MATCH (person:Person)-[:KNOWS]-(other_person:Person)-[:PARTY_TO]->(:Crime)\n",
        "MERGE (person)-[:KNOWS_CRIME]->(other_person)\n",
        "\"\"\"\n",
        "\n",
        "graph.run(crime_relationships).stats()"
      ],
      "execution_count": 0,
      "outputs": []
    },
    {
      "cell_type": "markdown",
      "metadata": {
        "id": "f7uGvT5AXRgx",
        "colab_type": "text"
      },
      "source": [
        "Devide the graph into `train` and `test` sub-graphs"
      ]
    },
    {
      "cell_type": "code",
      "metadata": {
        "id": "9ULeqShT8ed_",
        "colab_type": "code",
        "colab": {}
      },
      "source": [
        "query = \"\"\"\n",
        "MATCH (person:Person)\n",
        "RETURN toInteger(split(person.nhs_no, \"-\")[-1]) AS nhs_number\n",
        "ORDER BY nhs_number\n",
        "\"\"\"\n",
        "nhs_numbers = graph.run(query).to_data_frame()[\"nhs_number\"]\n",
        "\n",
        "median = statistics.median(nhs_numbers)\n",
        "print(median)"
      ],
      "execution_count": 0,
      "outputs": []
    },
    {
      "cell_type": "code",
      "metadata": {
        "id": "qGZoptxKIJcM",
        "colab_type": "code",
        "colab": {}
      },
      "source": [
        "query = \"\"\"\n",
        "MATCH (person:Person)\n",
        "where toInteger(split(person.nhs_no, \"-\")[-1]) < 5383\n",
        "SET person:PersonBefore\n",
        "\"\"\"\n",
        "\n",
        "graph.run(query).stats()"
      ],
      "execution_count": 0,
      "outputs": []
    },
    {
      "cell_type": "code",
      "metadata": {
        "id": "kkQETZw_IolS",
        "colab_type": "code",
        "colab": {}
      },
      "source": [
        "query = \"\"\"\n",
        "MATCH (person:Person)\n",
        "where toInteger(split(person.nhs_no, \"-\")[-1]) >= 5383\n",
        "SET person:PersonAfter\n",
        "\"\"\"\n",
        "\n",
        "graph.run(query).stats()"
      ],
      "execution_count": 0,
      "outputs": []
    },
    {
      "cell_type": "markdown",
      "metadata": {
        "id": "ilGyvKcqR-DG",
        "colab_type": "text"
      },
      "source": [
        "### Deep Learning"
      ]
    },
    {
      "cell_type": "markdown",
      "metadata": {
        "id": "8k5F70WTXe51",
        "colab_type": "text"
      },
      "source": [
        "Use $Graph Data Science$ to execute $Graph Algorithms$ for insights gathering"
      ]
    },
    {
      "cell_type": "markdown",
      "metadata": {
        "id": "OLiJPAlVXvU4",
        "colab_type": "text"
      },
      "source": [
        "`Centrality Algorithms`"
      ]
    },
    {
      "cell_type": "code",
      "metadata": {
        "id": "49iqFN-DPQe5",
        "colab_type": "code",
        "colab": {}
      },
      "source": [
        "graph.run(\"\"\"\n",
        "CALL algo.pageRank('PersonBefore', 'KNOWS_CRIME',{\n",
        "  write: true, writeProperty:\"pagerankTrain\"\n",
        "})\n",
        "YIELD nodes, iterations, loadMillis, computeMillis, writeMillis, dampingFactor, write, writeProperty\n",
        "\"\"\").stats()"
      ],
      "execution_count": 0,
      "outputs": []
    },
    {
      "cell_type": "code",
      "metadata": {
        "id": "bR633KiSPcHl",
        "colab_type": "code",
        "colab": {}
      },
      "source": [
        "graph.run(\"\"\"\n",
        "CALL algo.pageRank('PersonAfter', 'KNOWS_CRIME',{\n",
        "  write: true, writeProperty:\"pagerankTest\"\n",
        "})\n",
        "YIELD nodes, iterations, loadMillis, computeMillis, writeMillis, dampingFactor, write, writeProperty\n",
        "\"\"\").stats()"
      ],
      "execution_count": 0,
      "outputs": []
    },
    {
      "cell_type": "markdown",
      "metadata": {
        "id": "vH72X-eiXx3i",
        "colab_type": "text"
      },
      "source": [
        "`Community Detection Algoritms`"
      ]
    },
    {
      "cell_type": "code",
      "metadata": {
        "id": "bh4-RqJsV6kK",
        "colab_type": "code",
        "colab": {}
      },
      "source": [
        "graph.run(\"\"\"\n",
        "CALL algo.unionFind(\"PersonBefore\", \"FAMILY_REL\",\n",
        "{partitionProperty: \"familyCommunityTrain\", direction: \"BOTH\"});\n",
        "\"\"\").stats()\n",
        "\n",
        "graph.run(\"\"\"\n",
        "MATCH (person:PersonBefore)\n",
        "OPTIONAL MATCH (other_person:PersonBefore {familyCommunityTrain: person.familyCommunityTrain})-[:PARTY_TO]->(:Crime)\n",
        "WHERE NOT ID(person) = ID(other_person)\n",
        "WITH person, COUNT(other_person) AS danger\n",
        "SET person.familyDangerTrain = danger\n",
        "\"\"\").stats()"
      ],
      "execution_count": 0,
      "outputs": []
    },
    {
      "cell_type": "code",
      "metadata": {
        "id": "OP09EZCiWoQ7",
        "colab_type": "code",
        "colab": {}
      },
      "source": [
        "graph.run(\"\"\"\n",
        "CALL algo.unionFind(\"PersonAfter\", \"FAMILY_REL\",\n",
        "{partitionProperty: \"familyCommunityTest\", direction: \"BOTH\"});\n",
        "\"\"\").stats()\n",
        "\n",
        "graph.run(\"\"\"\n",
        "MATCH (person:PersonAfter)\n",
        "OPTIONAL MATCH (other_person:PersonAfter {familyCommunityTest: person.familyCommunityTest})-[:PARTY_TO]->(:Crime)\n",
        "WHERE NOT ID(person) = ID(other_person)\n",
        "WITH person, COUNT(other_person) AS danger\n",
        "SET person.familyDangerTest = danger\n",
        "\"\"\").stats()"
      ],
      "execution_count": 0,
      "outputs": []
    },
    {
      "cell_type": "code",
      "metadata": {
        "id": "eOoIsU28WukB",
        "colab_type": "code",
        "colab": {}
      },
      "source": [
        "graph.run(\"\"\"\n",
        "CALL algo.unionFind(\"PersonBefore\", \"KNOWS_LW\",\n",
        "{partitionProperty: \"livingCommunityTrain\", direction: \"BOTH\"});\n",
        "\"\"\").stats()\n",
        "\n",
        "graph.run(\"\"\"\n",
        "MATCH (person:PersonBefore)\n",
        "OPTIONAL MATCH (other_person:PersonBefore {livingCommunityTrain: person.livingCommunityTrain})-[:PARTY_TO]->(:Crime)\n",
        "WHERE NOT ID(person) = ID(other_person)\n",
        "WITH person, COUNT(other_person) AS danger\n",
        "SET person.livingDangerTrain = danger\n",
        "\"\"\").stats()"
      ],
      "execution_count": 0,
      "outputs": []
    },
    {
      "cell_type": "code",
      "metadata": {
        "id": "7Yf8o6GNW2Jx",
        "colab_type": "code",
        "colab": {}
      },
      "source": [
        "graph.run(\"\"\"\n",
        "CALL algo.unionFind(\"PersonAfter\", \"KNOWS_LW\",\n",
        "{partitionProperty: \"livingCommunityTest\", direction: \"BOTH\"});\n",
        "\"\"\").stats()\n",
        "\n",
        "graph.run(\"\"\"\n",
        "MATCH (person:PersonAfter)\n",
        "OPTIONAL MATCH (other_person:PersonAfter {livingCommunityTest: person.livingCommunityTest})-[:PARTY_TO]->(:Crime)\n",
        "WHERE NOT ID(person) = ID(other_person)\n",
        "WITH person, COUNT(other_person) AS danger\n",
        "SET person.livingDangerTest = danger\n",
        "\"\"\").stats()"
      ],
      "execution_count": 0,
      "outputs": []
    },
    {
      "cell_type": "code",
      "metadata": {
        "id": "Sm-ntskeVDyC",
        "colab_type": "code",
        "colab": {}
      },
      "source": [
        "graph.run(\"\"\"\n",
        "CALL algo.louvain.stream(\"PersonBefore\", \"KNOWS_PHONE\", {direction: \"BOTH\"})\n",
        "YIELD nodeId, community, communities\n",
        "WITH algo.getNodeById(nodeId) AS person, community AS community_id\n",
        "SET person.chatCommunityTrain = community_id\n",
        "\"\"\").stats()\n",
        "\n",
        "graph.run(\"\"\"\n",
        "MATCH (person:PersonBefore)\n",
        "OPTIONAL MATCH (other_person:PersonBefore {chatCommunityTrain: person.chatCommunityTrain})-[:PARTY_TO]->(:Crime)\n",
        "WHERE NOT ID(person) = ID(other_person)\n",
        "WITH person, COUNT(other_person) AS danger\n",
        "SET person.chatDangerTrain = danger\n",
        "\"\"\").stats()"
      ],
      "execution_count": 0,
      "outputs": []
    },
    {
      "cell_type": "code",
      "metadata": {
        "id": "QseXZxnMV9Ca",
        "colab_type": "code",
        "colab": {}
      },
      "source": [
        "graph.run(\"\"\"\n",
        "CALL algo.louvain.stream(\"PersonAfter\", \"KNOWS_PHONE\", {direction: \"BOTH\"})\n",
        "YIELD nodeId, community, communities\n",
        "WITH algo.getNodeById(nodeId) AS person, community AS community_id\n",
        "SET person.chatCommunityTest = community_id\n",
        "\"\"\").stats()\n",
        "\n",
        "graph.run(\"\"\"\n",
        "MATCH (person:PersonAfter)\n",
        "OPTIONAL MATCH (other_person:PersonAfter {chatCommunityTest: person.chatCommunityTest})-[:PARTY_TO]->(:Crime)\n",
        "WHERE NOT ID(person) = ID(other_person)\n",
        "WITH person, COUNT(other_person) AS danger\n",
        "SET person.chatDangerTest = danger\n",
        "\"\"\").stats()"
      ],
      "execution_count": 0,
      "outputs": []
    },
    {
      "cell_type": "code",
      "metadata": {
        "id": "38N7GwZbV0xS",
        "colab_type": "code",
        "colab": {}
      },
      "source": [
        "graph.run(\"\"\"\n",
        "CALL algo.louvain.stream(\"PersonBefore\", \"KNOWS_SN\", {direction: \"BOTH\"})\n",
        "YIELD nodeId, community, communities\n",
        "WITH algo.getNodeById(nodeId) AS person, community AS community_id\n",
        "SET person.socialNetworkCommunityTrain = community_id\n",
        "\"\"\").stats()\n",
        "\n",
        "graph.run(\"\"\"\n",
        "MATCH (person:PersonBefore)\n",
        "OPTIONAL MATCH (other_person:PersonBefore {socialNetworkCommunityTrain: person.socialNetworkCommunityTrain})-[:PARTY_TO]->(:Crime)\n",
        "WHERE NOT ID(person) = ID(other_person)\n",
        "WITH person, COUNT(other_person) AS danger\n",
        "SET person.socialNetworkDangerTrain = danger\n",
        "\"\"\").stats()"
      ],
      "execution_count": 0,
      "outputs": []
    },
    {
      "cell_type": "code",
      "metadata": {
        "id": "IjzY2ybWV-AG",
        "colab_type": "code",
        "colab": {}
      },
      "source": [
        "graph.run(\"\"\"\n",
        "CALL algo.louvain.stream(\"PersonAfter\", \"KNOWS_SN\", {direction: \"BOTH\"})\n",
        "YIELD nodeId, community, communities\n",
        "WITH algo.getNodeById(nodeId) AS person, community AS community_id\n",
        "SET person.socialNetworkCommunityTest = community_id\n",
        "\"\"\").stats()\n",
        "\n",
        "graph.run(\"\"\"\n",
        "MATCH (person:PersonAfter)\n",
        "OPTIONAL MATCH (other_person:PersonAfter {socialNetworkCommunityTest: person.socialNetworkCommunityTest})-[:PARTY_TO]->(:Crime)\n",
        "WHERE NOT ID(person) = ID(other_person)\n",
        "WITH person, COUNT(other_person) AS danger\n",
        "SET person.socialNetworkDangerTest = danger\n",
        "\"\"\").stats()"
      ],
      "execution_count": 0,
      "outputs": []
    },
    {
      "cell_type": "code",
      "metadata": {
        "id": "DZWhd0rAH6Lm",
        "colab_type": "code",
        "colab": {}
      },
      "source": [
        "graph.run(\"\"\"\n",
        "CALL algo.louvain.stream(\"PersonBefore\", \"KNOWS_CRIME\", {direction: \"BOTH\"})\n",
        "YIELD nodeId, community, communities\n",
        "WITH algo.getNodeById(nodeId) AS person, community AS community_id\n",
        "SET person.crimeCommunityTrain = community_id\n",
        "\"\"\").stats()\n",
        "\n",
        "graph.run(\"\"\"\n",
        "MATCH (person:PersonBefore)\n",
        "OPTIONAL MATCH (other_person:PersonBefore {crimeCommunityTrain: person.crimeCommunityTrain})-[:PARTY_TO]->(:Crime)\n",
        "WHERE NOT ID(person) = ID(other_person)\n",
        "WITH person, COUNT(other_person) AS danger\n",
        "SET person.crimeDangerTrain = danger\n",
        "\"\"\").stats()"
      ],
      "execution_count": 0,
      "outputs": []
    },
    {
      "cell_type": "code",
      "metadata": {
        "id": "tLkpyV8xIz8n",
        "colab_type": "code",
        "colab": {}
      },
      "source": [
        "graph.run(\"\"\"\n",
        "CALL algo.louvain.stream(\"PersonAfter\", \"KNOWS_CRIME\", {direction: \"BOTH\"})\n",
        "YIELD nodeId, community, communities\n",
        "WITH algo.getNodeById(nodeId) AS person, community AS community_id\n",
        "SET person.crimeCommunityTest = community_id\n",
        "\"\"\").stats()\n",
        "\n",
        "graph.run(\"\"\"\n",
        "MATCH (person:PersonAfter)\n",
        "OPTIONAL MATCH (other_person:PersonAfter {crimeCommunityTest: person.crimeCommunityTest})-[:PARTY_TO]->(:Crime)\n",
        "WHERE NOT ID(person) = ID(other_person)\n",
        "WITH person, COUNT(other_person) AS danger\n",
        "SET person.crimeDangerTest = danger\n",
        "\"\"\").stats()"
      ],
      "execution_count": 0,
      "outputs": []
    },
    {
      "cell_type": "markdown",
      "metadata": {
        "id": "aXy-5G-oSXc-",
        "colab_type": "text"
      },
      "source": [
        "### Machine Learning"
      ]
    },
    {
      "cell_type": "code",
      "metadata": {
        "id": "fmAZQenQKda9",
        "colab_type": "code",
        "colab": {}
      },
      "source": [
        "classifier = RandomForestClassifier(n_estimators=30, max_depth=10, random_state=0)"
      ],
      "execution_count": 0,
      "outputs": []
    },
    {
      "cell_type": "code",
      "metadata": {
        "id": "zdI-kaiKKgsW",
        "colab_type": "code",
        "colab": {}
      },
      "source": [
        "def evaluate_model(predictions, actual):\n",
        "    return pd.DataFrame({\n",
        "        \"Measure\": [\"Accuracy\", \"Precision\", \"Recall\"],\n",
        "        \"Score\": [accuracy_score(actual, predictions), \n",
        "                  precision_score(actual, predictions), \n",
        "                  recall_score(actual, predictions)]\n",
        "    })\n",
        "\n",
        "def feature_importance(columns, classifier):        \n",
        "    display(\"Feature Importance\")\n",
        "    df = pd.DataFrame({\n",
        "        \"Feature\": columns,\n",
        "        \"Importance\": classifier.feature_importances_\n",
        "    })\n",
        "    df = df.sort_values(\"Importance\", ascending=False)    \n",
        "    ax = df.plot(kind='bar', x='Feature', y='Importance', legend=None)\n",
        "    ax.xaxis.set_label_text(\"\")\n",
        "    plt.tight_layout()\n",
        "    plt.show()"
      ],
      "execution_count": 0,
      "outputs": []
    },
    {
      "cell_type": "code",
      "metadata": {
        "id": "627ojRYSJPf7",
        "colab_type": "code",
        "colab": {}
      },
      "source": [
        "def down_sample(df):\n",
        "    copy = df.copy()\n",
        "    zero = Counter(copy.vulnerable.values)[0]\n",
        "    un = Counter(copy.vulnerable.values)[1]\n",
        "    n = zero - un\n",
        "    copy = copy.drop(copy[copy.vulnerable == 0].sample(n=n, random_state=1).index)\n",
        "    return copy.sample(frac=1)"
      ],
      "execution_count": 0,
      "outputs": []
    },
    {
      "cell_type": "markdown",
      "metadata": {
        "id": "GINiXVBmX5X9",
        "colab_type": "text"
      },
      "source": [
        "Extract the train and test models"
      ]
    },
    {
      "cell_type": "code",
      "metadata": {
        "id": "RhakPtguJSEm",
        "colab_type": "code",
        "colab": {}
      },
      "source": [
        "train_existing_links = graph.run(\"\"\"\n",
        "MATCH (person:PersonBefore)\n",
        "WHERE (person)-[:PARTY_TO]->(:Crime)\n",
        "RETURN id(person) AS node, 1 AS vulnerable\n",
        "\"\"\").to_data_frame()\n",
        "\n",
        "train_missing_links = graph.run(\"\"\"\n",
        "MATCH (person:PersonBefore)\n",
        "WHERE NOT (person)-[:PARTY_TO]->(:Crime)\n",
        "RETURN id(person) AS node, 0 AS vulnerable\n",
        "\"\"\").to_data_frame()\n",
        "train_missing_links = train_missing_links.drop_duplicates()"
      ],
      "execution_count": 0,
      "outputs": []
    },
    {
      "cell_type": "code",
      "metadata": {
        "id": "i0cMyK5MJ4-k",
        "colab_type": "code",
        "colab": {}
      },
      "source": [
        "training_df = train_missing_links.append(train_existing_links, ignore_index=True)\n",
        "training_df['vulnerable'] = training_df['vulnerable'].astype('category')\n",
        "training_df = down_sample(training_df)"
      ],
      "execution_count": 0,
      "outputs": []
    },
    {
      "cell_type": "code",
      "metadata": {
        "id": "xHMhuAvmKRK6",
        "colab_type": "code",
        "colab": {}
      },
      "source": [
        "test_existing_links = graph.run(\"\"\"\n",
        "MATCH (person:PersonAfter)\n",
        "WHERE (person)-[:PARTY_TO]->(:Crime)\n",
        "RETURN id(person) AS node, 1 AS vulnerable\n",
        "\"\"\").to_data_frame()\n",
        "\n",
        "test_missing_links = graph.run(\"\"\"\n",
        "MATCH (person:PersonAfter)\n",
        "WHERE NOT (person)-[:PARTY_TO]->(:Crime)\n",
        "RETURN id(person) AS node, 0 AS vulnerable\n",
        "\"\"\").to_data_frame()\n",
        "test_missing_links = test_missing_links.drop_duplicates()"
      ],
      "execution_count": 0,
      "outputs": []
    },
    {
      "cell_type": "code",
      "metadata": {
        "id": "pZg1X8KDKZ4E",
        "colab_type": "code",
        "colab": {}
      },
      "source": [
        "test_df = test_missing_links.append(test_existing_links, ignore_index=True)\n",
        "test_df['vulnerable'] = test_df['vulnerable'].astype('category')\n",
        "test_df = down_sample(test_df)"
      ],
      "execution_count": 0,
      "outputs": []
    },
    {
      "cell_type": "markdown",
      "metadata": {
        "id": "PFV6H97eX8Tc",
        "colab_type": "text"
      },
      "source": [
        "`Apply Centrality Features`"
      ]
    },
    {
      "cell_type": "code",
      "metadata": {
        "id": "Suq6bzY3Phq_",
        "colab_type": "code",
        "colab": {}
      },
      "source": [
        "def apply_centrality_features(data, pagerank_prop):\n",
        "    query = \"\"\"\n",
        "    UNWIND $nodes AS node\n",
        "    MATCH (person) WHERE id(person) = node[0]\n",
        "    RETURN node[0] AS node, person[$pagerankProp] AS pagerank\n",
        "    \"\"\"    \n",
        "    nodes = data[[\"node\"]].values.tolist() \n",
        "    params = {\n",
        "    \"nodes\": nodes,\n",
        "    \"pagerankProp\": pagerank_prop\n",
        "    }\n",
        "    features = graph.run(query, params).to_data_frame()    \n",
        "    return pd.merge(data, features, on = [\"node\"])"
      ],
      "execution_count": 0,
      "outputs": []
    },
    {
      "cell_type": "code",
      "metadata": {
        "id": "W_iSrHkzP0jz",
        "colab_type": "code",
        "colab": {}
      },
      "source": [
        "training_df = apply_centrality_features(training_df, \"pagerankTrain\")\n",
        "test_df = apply_centrality_features(test_df, \"pagerankTest\")"
      ],
      "execution_count": 0,
      "outputs": []
    },
    {
      "cell_type": "code",
      "metadata": {
        "id": "Dy6lGFQjP8K-",
        "colab_type": "code",
        "colab": {}
      },
      "source": [
        "columns = [ \n",
        "    \"pagerank\" # centrality feature\n",
        "]\n",
        "\n",
        "X = training_df[columns]\n",
        "y = training_df[\"vulnerable\"]\n",
        "classifier.fit(X, y)\n",
        "\n",
        "predictions = classifier.predict(test_df[columns])\n",
        "y_test = test_df[\"vulnerable\"]\n",
        "\n",
        "display(evaluate_model(predictions, y_test))\n",
        "feature_importance(columns, classifier)"
      ],
      "execution_count": 0,
      "outputs": []
    },
    {
      "cell_type": "markdown",
      "metadata": {
        "id": "3s7ZWBfAY9Zn",
        "colab_type": "text"
      },
      "source": [
        "`Apply Community Detection Features`"
      ]
    },
    {
      "cell_type": "code",
      "metadata": {
        "id": "XBvMnGFQZCjV",
        "colab_type": "code",
        "colab": {}
      },
      "source": [
        "def apply_community_detection_features(data, family_danger_prop, living_danger_prop,\n",
        "                                       chat_danger_prop, social_network_danger_prop,\n",
        "                                       crime_danger_prop):\n",
        "    query = \"\"\"\n",
        "    UNWIND $nodes AS node\n",
        "    MATCH (person) WHERE id(person) = node[0]\n",
        "    RETURN node[0] AS node,\n",
        "    person[$familyDangerProp] AS familyDanger,\n",
        "    person[$livingDangerProp] AS livingDanger,\n",
        "    person[$chatDangerProp] AS chatDanger,\n",
        "    person[$socialNetworkDangerProp] AS socialNetworkDanger,\n",
        "    person[$crimeDangerProp] AS crimeDanger\n",
        "    \"\"\"\n",
        "    nodes = data[[\"node\"]].values.tolist() \n",
        "    params = {\n",
        "    \"nodes\": nodes,\n",
        "    \"familyDangerProp\": family_danger_prop,\n",
        "    \"livingDangerProp\": living_danger_prop,\n",
        "    \"chatDangerProp\": chat_danger_prop,\n",
        "    \"socialNetworkDangerProp\": social_network_danger_prop,\n",
        "    \"crimeDangerProp\": crime_danger_prop\n",
        "    }\n",
        "    features = graph.run(query, params).to_data_frame()    \n",
        "    return pd.merge(data, features, on = [\"node\"])"
      ],
      "execution_count": 0,
      "outputs": []
    },
    {
      "cell_type": "code",
      "metadata": {
        "id": "y8rWHfFrjp7D",
        "colab_type": "code",
        "colab": {}
      },
      "source": [
        "training_df = apply_community_detection_features(training_df, \"familyDangerTrain\",\n",
        "                                                 \"livingDangerTrain\", \"chatDangerTrain\",\n",
        "                                                 \"socialNetworkDangerTrain\", \"crimeDangerTrain\")\n",
        "\n",
        "test_df = apply_community_detection_features(test_df, \"familyDangerTest\", \"livingDangerTest\",\n",
        "                                             \"chatDangerTest\", \"socialNetworkDangerTest\",\n",
        "                                             \"crimeDangerTest\")"
      ],
      "execution_count": 0,
      "outputs": []
    },
    {
      "cell_type": "code",
      "metadata": {
        "id": "sqBmQUAKkO_s",
        "colab_type": "code",
        "colab": {}
      },
      "source": [
        "columns = [ \n",
        "    \"pagerank\", # centrality feature\n",
        "    \"familyDanger\", \"livingDanger\", \"chatDanger\", \"socialNetworkDanger\", \"crimeDanger\" # community detetion features\n",
        "]\n",
        "\n",
        "X = training_df[columns]\n",
        "y = training_df[\"vulnerable\"]\n",
        "classifier.fit(X, y)\n",
        "\n",
        "predictions = classifier.predict(test_df[columns])\n",
        "y_test = test_df[\"vulnerable\"]\n",
        "\n",
        "display(evaluate_model(predictions, y_test))\n",
        "feature_importance(columns, classifier)"
      ],
      "execution_count": 0,
      "outputs": []
    },
    {
      "cell_type": "markdown",
      "metadata": {
        "id": "5tpQNdVdpfzB",
        "colab_type": "text"
      },
      "source": [
        "Removing not important features"
      ]
    },
    {
      "cell_type": "code",
      "metadata": {
        "id": "r4R6Zxfxpaiw",
        "colab_type": "code",
        "colab": {}
      },
      "source": [
        "columns = [ \n",
        "    \"pagerank\", # centrality feature\n",
        "    \"socialNetworkDanger\", \"crimeDanger\" # community detetion features\n",
        "]\n",
        "\n",
        "X = training_df[columns]\n",
        "y = training_df[\"vulnerable\"]\n",
        "classifier.fit(X, y)\n",
        "\n",
        "predictions = classifier.predict(test_df[columns])\n",
        "y_test = test_df[\"vulnerable\"]\n",
        "\n",
        "display(evaluate_model(predictions, y_test))\n",
        "feature_importance(columns, classifier)"
      ],
      "execution_count": 0,
      "outputs": []
    },
    {
      "cell_type": "markdown",
      "metadata": {
        "id": "u0ChT-MTp188",
        "colab_type": "text"
      },
      "source": [
        "# Summary\n",
        "\n",
        "Accuracy: 95.8%\n",
        "\n",
        "Precision: 100%\n",
        "\n",
        "Recall: 91.7%\n",
        "\n",
        "\n",
        "Features by importancy: PageRank, Social Network Danger, Crime Danger"
      ]
    }
  ]
}