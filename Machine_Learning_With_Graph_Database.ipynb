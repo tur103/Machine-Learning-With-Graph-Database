{
  "nbformat": 4,
  "nbformat_minor": 0,
  "metadata": {
    "colab": {
      "name": "Machine-Learning-With-Graph-Database.ipynb",
      "provenance": [],
      "collapsed_sections": [],
      "authorship_tag": "ABX9TyMve3mMkebsI4QH5delg3f6",
      "include_colab_link": true
    },
    "kernelspec": {
      "name": "python3",
      "display_name": "Python 3"
    }
  },
  "cells": [
    {
      "cell_type": "markdown",
      "metadata": {
        "id": "view-in-github",
        "colab_type": "text"
      },
      "source": [
        "<a href=\"https://colab.research.google.com/github/tur103/Social-Network-Link-Prediction/blob/master/Machine_Learning_With_Graph_Database.ipynb\" target=\"_parent\"><img src=\"https://colab.research.google.com/assets/colab-badge.svg\" alt=\"Open In Colab\"/></a>"
      ]
    },
    {
      "cell_type": "markdown",
      "metadata": {
        "id": "fqZJdxh9j4L7",
        "colab_type": "text"
      },
      "source": [
        "# Machine Learning With Graph Database\n",
        "\n",
        "---\n",
        "\n",
        "### Welcome to the machine learning with graph database tutorial\n",
        "\n",
        "In this notebook you will learn how to build a machine learning based on graph databse.\n",
        "\n",
        "In project we will use Neo4j graph database platform, pandas data science library and scikit-learn models building library to create a machine learning classifier.\n"
      ]
    },
    {
      "cell_type": "markdown",
      "metadata": {
        "id": "B-hLFXfjqkIX",
        "colab_type": "text"
      },
      "source": [
        "## Predictions\n",
        "\n",
        "Our machine learning model should be able to predict what would be the right answer of a given question according to what it has learn so far.\n",
        "\n",
        "In graph database it is the ability to predict a near future connection between to entities that are currently not connected.\n",
        "\n",
        "### This is called Link-Prediction\n",
        "\n",
        "In other words:\n",
        "Given a snapshot of a social network, can we infer which new interactions among its members are likely to occur in the near future?\n",
        "\n",
        "In this guide we will learn how to build a machine learning classifier to predict future relationships between people in a social network."
      ]
    },
    {
      "cell_type": "markdown",
      "metadata": {
        "id": "1-ZdoOivFzAN",
        "colab_type": "text"
      },
      "source": [
        "## Database\n",
        "\n",
        "You will need to create a clouded Neo4j database instance using Neo4j Sandbox. Its free! Here is a link for instruction: [tap on me](https://youtu.be/rmfgRKPjhl8)\n",
        "\n",
        "After lunching your sandbox, create a blank database."
      ]
    },
    {
      "cell_type": "markdown",
      "metadata": {
        "id": "WwrWawYvvTBx",
        "colab_type": "text"
      },
      "source": [
        "## Install Libraries\n",
        "\n",
        "First, we need to install the following libraries for our project"
      ]
    },
    {
      "cell_type": "code",
      "metadata": {
        "id": "8JjDF95pvfDt",
        "colab_type": "code",
        "colab": {
          "base_uri": "https://localhost:8080/",
          "height": 547
        },
        "outputId": "79c07dbd-cfb2-4711-ad1c-7a45ae7e715c"
      },
      "source": [
        "!pip install py2neo==4.1.3 pandas matplotlib sklearn"
      ],
      "execution_count": 5,
      "outputs": [
        {
          "output_type": "stream",
          "text": [
            "Requirement already satisfied: py2neo==4.1.3 in /usr/local/lib/python3.6/dist-packages (4.1.3)\n",
            "Requirement already satisfied: pandas in /usr/local/lib/python3.6/dist-packages (1.0.3)\n",
            "Requirement already satisfied: matplotlib in /usr/local/lib/python3.6/dist-packages (3.2.1)\n",
            "Requirement already satisfied: sklearn in /usr/local/lib/python3.6/dist-packages (0.0)\n",
            "Requirement already satisfied: click>=2.0 in /usr/local/lib/python3.6/dist-packages (from py2neo==4.1.3) (7.1.1)\n",
            "Requirement already satisfied: neo4j-driver<1.7,>=1.6.2 in /usr/local/lib/python3.6/dist-packages (from py2neo==4.1.3) (1.6.3)\n",
            "Requirement already satisfied: prompt-toolkit==1.0.15 in /usr/local/lib/python3.6/dist-packages (from py2neo==4.1.3) (1.0.15)\n",
            "Requirement already satisfied: neotime==1.0.0 in /usr/local/lib/python3.6/dist-packages (from py2neo==4.1.3) (1.0.0)\n",
            "Requirement already satisfied: pygments>=2.0 in /usr/local/lib/python3.6/dist-packages (from py2neo==4.1.3) (2.1.3)\n",
            "Requirement already satisfied: pytest in /usr/local/lib/python3.6/dist-packages (from py2neo==4.1.3) (3.6.4)\n",
            "Requirement already satisfied: colorama in /usr/local/lib/python3.6/dist-packages (from py2neo==4.1.3) (0.4.3)\n",
            "Requirement already satisfied: urllib3[secure]<1.23,>=1.21.1 in /usr/local/lib/python3.6/dist-packages (from py2neo==4.1.3) (1.22)\n",
            "Requirement already satisfied: pytz>=2017.2 in /usr/local/lib/python3.6/dist-packages (from pandas) (2018.9)\n",
            "Requirement already satisfied: python-dateutil>=2.6.1 in /usr/local/lib/python3.6/dist-packages (from pandas) (2.8.1)\n",
            "Requirement already satisfied: numpy>=1.13.3 in /usr/local/lib/python3.6/dist-packages (from pandas) (1.18.2)\n",
            "Requirement already satisfied: cycler>=0.10 in /usr/local/lib/python3.6/dist-packages (from matplotlib) (0.10.0)\n",
            "Requirement already satisfied: pyparsing!=2.0.4,!=2.1.2,!=2.1.6,>=2.0.1 in /usr/local/lib/python3.6/dist-packages (from matplotlib) (2.4.7)\n",
            "Requirement already satisfied: kiwisolver>=1.0.1 in /usr/local/lib/python3.6/dist-packages (from matplotlib) (1.2.0)\n",
            "Requirement already satisfied: scikit-learn in /usr/local/lib/python3.6/dist-packages (from sklearn) (0.22.2.post1)\n",
            "Requirement already satisfied: six>=1.9.0 in /usr/local/lib/python3.6/dist-packages (from prompt-toolkit==1.0.15->py2neo==4.1.3) (1.12.0)\n",
            "Requirement already satisfied: wcwidth in /usr/local/lib/python3.6/dist-packages (from prompt-toolkit==1.0.15->py2neo==4.1.3) (0.1.9)\n",
            "Requirement already satisfied: pluggy<0.8,>=0.5 in /usr/local/lib/python3.6/dist-packages (from pytest->py2neo==4.1.3) (0.7.1)\n",
            "Requirement already satisfied: setuptools in /usr/local/lib/python3.6/dist-packages (from pytest->py2neo==4.1.3) (46.1.3)\n",
            "Requirement already satisfied: more-itertools>=4.0.0 in /usr/local/lib/python3.6/dist-packages (from pytest->py2neo==4.1.3) (8.2.0)\n",
            "Requirement already satisfied: py>=1.5.0 in /usr/local/lib/python3.6/dist-packages (from pytest->py2neo==4.1.3) (1.8.1)\n",
            "Requirement already satisfied: atomicwrites>=1.0 in /usr/local/lib/python3.6/dist-packages (from pytest->py2neo==4.1.3) (1.3.0)\n",
            "Requirement already satisfied: attrs>=17.4.0 in /usr/local/lib/python3.6/dist-packages (from pytest->py2neo==4.1.3) (19.3.0)\n",
            "Requirement already satisfied: certifi; extra == \"secure\" in /usr/local/lib/python3.6/dist-packages (from urllib3[secure]<1.23,>=1.21.1->py2neo==4.1.3) (2020.4.5.1)\n",
            "Requirement already satisfied: scipy>=0.17.0 in /usr/local/lib/python3.6/dist-packages (from scikit-learn->sklearn) (1.4.1)\n",
            "Requirement already satisfied: joblib>=0.11 in /usr/local/lib/python3.6/dist-packages (from scikit-learn->sklearn) (0.14.1)\n"
          ],
          "name": "stdout"
        }
      ]
    },
    {
      "cell_type": "markdown",
      "metadata": {
        "id": "TsWsBu802Wap",
        "colab_type": "text"
      },
      "source": [
        "## Start to Code\n",
        "\n",
        "Next, we want to import our libraries into the interpreter and validate their installation."
      ]
    },
    {
      "cell_type": "code",
      "metadata": {
        "id": "kE3dD2Ai2fYP",
        "colab_type": "code",
        "colab": {}
      },
      "source": [
        "from py2neo import Graph\n",
        "import pandas as pd\n",
        "import statistics\n",
        "\n",
        "import matplotlib \n",
        "import matplotlib.pyplot as plt\n",
        "\n",
        "plt.style.use('fivethirtyeight')\n",
        "pd.set_option('display.float_format', lambda x: '%.3f' % x)\n",
        "\n",
        "import pandas as pd\n",
        "from collections import Counter\n",
        "from sklearn.ensemble import RandomForestClassifier\n",
        "\n",
        "from sklearn.metrics import recall_score\n",
        "from sklearn.metrics import precision_score\n",
        "from sklearn.metrics import accuracy_score"
      ],
      "execution_count": 0,
      "outputs": []
    },
    {
      "cell_type": "markdown",
      "metadata": {
        "id": "VA5Rhb3G2mPb",
        "colab_type": "text"
      },
      "source": [
        "Now we need to create a connection to our graph instance using py2neo.\n",
        "You will need to update the connection details to the graph according to the ones appeared in the created database on your sandbox."
      ]
    },
    {
      "cell_type": "code",
      "metadata": {
        "id": "oB7r3IBE5t5f",
        "colab_type": "code",
        "colab": {}
      },
      "source": [
        "# Change the line of code below to use the Bolt URL and Password of your Neo4j instace.\n",
        "# graph = Graph(\"bolt://<IP Address>:<Bolt Port>\", auth=(\"neo4j\", \"<Password>\")) \n",
        " \n",
        "graph = Graph(\"bolt://54.162.238.103:32784\", auth=(\"neo4j\", \"market-waste-linkages\"))"
      ],
      "execution_count": 0,
      "outputs": []
    },
    {
      "cell_type": "markdown",
      "metadata": {
        "id": "B4bvQ2GDv_Jj",
        "colab_type": "text"
      },
      "source": [
        "## Build Social Network Graph\n",
        "\n",
        "In order to build the social network graph database, here is a pre-prepared script that runs some cypher queries to load all the data we need into the graph.\n"
      ]
    },
    {
      "cell_type": "code",
      "metadata": {
        "id": "dyVp2gsXHNxG",
        "colab_type": "code",
        "colab": {
          "base_uri": "https://localhost:8080/",
          "height": 34
        },
        "outputId": "6e2e2520-64c6-4dda-f99a-b623d8fb1a45"
      },
      "source": [
        "index_education = \"\"\"CREATE INDEX ON :Education(name)\"\"\"\n",
        "index_hiring_source = \"\"\"CREATE INDEX ON :HiringSource(name)\"\"\"\n",
        "index_job = \"\"\"CREATE INDEX ON :Job(name)\"\"\"\n",
        "index_location = \"\"\"CREATE INDEX ON :Location(name)\"\"\"\n",
        "index_person = \"\"\"CREATE INDEX ON :Person(name)\"\"\"\n",
        "index_team = \"\"\"CREATE INDEX ON :Team(name)\"\"\"\n",
        "index_university = \"\"\"CREATE INDEX ON :University(name)\"\"\"\n",
        "\n",
        "load_person = \"\"\"\n",
        "LOAD CSV WITH HEADERS FROM \"https://github.com/tur103/Social-Network-Link-Prediction/raw/master/data/People.csv\" AS line\n",
        "WITH line LIMIT 800\n",
        "\n",
        "MERGE (person:Person {name: line.Name})\n",
        "SET person += line\n",
        "WITH line, person\n",
        "\n",
        "CALL apoc.do.when(line.Retirement = \"Yes\",\n",
        "\t\t\t\t  'SET person:Retired RETURN person',\n",
        "                  'RETURN person',\n",
        "                  {line:line, person:person})\n",
        "YIELD value\n",
        "WITH line, value[\"person\"] AS person\n",
        "\n",
        "CALL apoc.do.when(line.`Is.Manager` = \"Yes\",\n",
        "\t\t\t\t  'SET person:Manager RETURN person',\n",
        "                  'RETURN person',\n",
        "                  {line:line, person:person})\n",
        "YIELD value\n",
        "WITH line, value[\"person\"] AS person\n",
        "\n",
        "CALL apoc.create.addLabels(person, [line.Sex]) YIELD node\n",
        "WITH COLLECT(node) AS nodes\n",
        "RETURN 1\n",
        "\"\"\"\n",
        "load_education = \"\"\"\n",
        "MATCH (person:Person)\n",
        "MERGE (education:Education {name: person.`Education.Level`})\n",
        "MERGE (person)-[:EDUCATION_LEVEL]->(education)\n",
        "\"\"\"\n",
        "load_hiring_source = \"\"\"\n",
        "MATCH (person:Person)\n",
        "MERGE (hiring_source:HiringSource {name: person.`Hiring.Source`})\n",
        "MERGE (person)-[:HIRING_SOURCE]->(hiring_source)\n",
        "\"\"\"\n",
        "load_job = \"\"\"\n",
        "MATCH (person:Person)\n",
        "MERGE (job:Job {name: person.`Job.Family`})\n",
        "MERGE (person)-[:JOB]->(job)\n",
        "\"\"\"\n",
        "load_location = \"\"\"\n",
        "MATCH (person:Person)\n",
        "MERGE (location:Location {name: person.`Biz.Location`})\n",
        "MERGE (person)-[:LOACTION]->(location)\n",
        "\"\"\"\n",
        "load_team = \"\"\"\n",
        "MATCH (person:Person)\n",
        "MERGE (team:Team {name: person.Team})\n",
        "MERGE (person)-[:TEAM]->(team)\n",
        "\"\"\"\n",
        "load_university = \"\"\"\n",
        "MATCH (person:Person)\n",
        "MERGE (university:University {name: person.University})\n",
        "MERGE (person)-[:STUDIED_AT]->(university)\n",
        "\"\"\"\n",
        "\n",
        "connect_education = \"\"\"\n",
        "MATCH (education:Education)\n",
        "MATCH (person:Person)-[:EDUCATION_LEVEL]->(education)<-[:EDUCATION_LEVEL]-(other_person:Person)\n",
        "WHERE ID(person) > ID(other_person)\n",
        "MERGE (person)<-[r:RELATED {employ_id: (toInteger(person.`Emp.No`) + toInteger(other_person.`Emp.No`))}]->(other_person)\n",
        "ON CREATE SET r.value = 2\n",
        "ON MATCH SET r.value = r.value + 2\n",
        "\"\"\"\n",
        "connect_hiring_source = \"\"\"\n",
        "MATCH (hiring_source:HiringSource)\n",
        "MATCH (person:Person)-[:HIRING_SOURCE]->(hiring_source)<-[:HIRING_SOURCE]-(other_person:Person)\n",
        "WHERE ID(person) > ID(other_person)\n",
        "MERGE (person)<-[r:RELATED {employ_id: (toInteger(person.`Emp.No`) + toInteger(other_person.`Emp.No`))}]->(other_person)\n",
        "ON CREATE SET r.value = 1\n",
        "ON MATCH SET r.value = r.value + 1\n",
        "\"\"\"\n",
        "connect_job = \"\"\"\n",
        "MATCH (job:Job)\n",
        "MATCH (person:Person)-[:JOB]->(job)<-[:JOB]-(other_person:Person)\n",
        "WHERE ID(person) > ID(other_person)\n",
        "MERGE (person)<-[r:RELATED {employ_id: (toInteger(person.`Emp.No`) + toInteger(other_person.`Emp.No`))}]->(other_person)\n",
        "ON CREATE SET r.value = 4\n",
        "ON MATCH SET r.value = r.value + 4\n",
        "\"\"\"\n",
        "connect_location = \"\"\"\n",
        "MATCH (location:Location)\n",
        "MATCH (person:Person)-[:LOACTION]->(location)<-[:LOACTION]-(other_person:Person)\n",
        "WHERE ID(person) > ID(other_person)\n",
        "MERGE (person)<-[r:RELATED {employ_id: (toInteger(person.`Emp.No`) + toInteger(other_person.`Emp.No`))}]->(other_person)\n",
        "ON CREATE SET r.value = 5\n",
        "ON MATCH SET r.value = r.value + 5\n",
        "\"\"\"\n",
        "connect_team = \"\"\"\n",
        "MATCH (team:Team)\n",
        "MATCH (person:Person)-[:TEAM]->(team)<-[:TEAM]-(other_person:Person)\n",
        "WHERE ID(person) > ID(other_person)\n",
        "MERGE (person)<-[r:RELATED {employ_id: (toInteger(person.`Emp.No`) + toInteger(other_person.`Emp.No`))}]->(other_person)\n",
        "ON CREATE SET r.value = 6\n",
        "ON MATCH SET r.value = r.value + 6\n",
        "\"\"\"\n",
        "connect_university = \"\"\"\n",
        "MATCH (university:University)\n",
        "MATCH (person:Person)-[:STUDIED_AT]->(university)<-[:STUDIED_AT]-(other_person:Person)\n",
        "WHERE ID(person) > ID(other_person)\n",
        "MERGE (person)<-[r:RELATED {employ_id: (toInteger(person.`Emp.No`) + toInteger(other_person.`Emp.No`))}]->(other_person)\n",
        "ON CREATE SET r.value = 3\n",
        "ON MATCH SET r.value = r.value + 3\n",
        "\"\"\"\n",
        "\n",
        "remove_week_connections = \"\"\"\n",
        "MATCH (person:Person)-[r:RELATED]->(other_person:Person)\n",
        "WHERE r.value < 15\n",
        "DELETE r\n",
        "\"\"\"\n",
        "\n",
        "graph.run(cypher=index_education)\n",
        "graph.run(cypher=index_hiring_source)\n",
        "graph.run(cypher=index_job)\n",
        "graph.run(cypher=index_location)\n",
        "graph.run(cypher=index_person)\n",
        "graph.run(cypher=index_team)\n",
        "graph.run(cypher=index_university)\n",
        "graph.run(cypher=load_person)\n",
        "graph.run(cypher=load_education)\n",
        "graph.run(cypher=load_hiring_source)\n",
        "graph.run(cypher=load_job)\n",
        "graph.run(cypher=load_location)\n",
        "graph.run(cypher=load_team)\n",
        "graph.run(cypher=load_university)\n",
        "graph.run(cypher=connect_education)\n",
        "graph.run(cypher=connect_hiring_source)\n",
        "graph.run(cypher=connect_job)\n",
        "graph.run(cypher=connect_location)\n",
        "graph.run(cypher=connect_team)\n",
        "graph.run(cypher=connect_university)\n",
        "graph.run(cypher=remove_week_connections)"
      ],
      "execution_count": 80,
      "outputs": [
        {
          "output_type": "execute_result",
          "data": {
            "text/plain": [
              "<py2neo.database.Cursor at 0x7f879f634780>"
            ]
          },
          "metadata": {
            "tags": []
          },
          "execution_count": 80
        }
      ]
    },
    {
      "cell_type": "markdown",
      "metadata": {
        "id": "BqZ_Nd64Nq5r",
        "colab_type": "text"
      },
      "source": [
        "Now that you have created the social netweok graph, you will use the link prediction algorithms to compute scores on all the people in it."
      ]
    },
    {
      "cell_type": "markdown",
      "metadata": {
        "id": "9qvtWjEithy_",
        "colab_type": "text"
      },
      "source": [
        "## Graph algoritms in Neo4j\n",
        "\n",
        "Neo4j has a graph algorithms library to perform advanced manipulations on the grah and gain hidden insights from the data we already have.\n",
        "Graph algorithms take into consideration the graph topology in order to extract information from the way that the entities are connected.\n",
        "\n",
        "In this tutorial we are going to use the link prediction algorithms.\n",
        "These are set of methods that compute a score for a pair of nodes, where the score could be considered a measure of proximity or “similarity” between those nodes based on the graph topology. The closer two nodes are, the more likely there will be a relationship between them."
      ]
    },
    {
      "cell_type": "markdown",
      "metadata": {
        "id": "72SvDwffqvCB",
        "colab_type": "text"
      },
      "source": [
        "## Link Prediction Algorithms\n",
        "\n",
        "The uniqueness of graph database compared to relational databases gives us the ability to look at our data in a form of a network.\n",
        "\n",
        "Instead of predict links between people based on their formal characteristics, we can predict relationships based on the connectedness of the people on the network.\n",
        "\n",
        "While we look at the network, it's structure and the way that our entities inside it are connected to each other, we can predict connections between people based on their connection to other people.\n",
        "\n",
        "This sort of thinkning is way more reality like. People not just become friends of othoer people at the same age or people that were learning the same subjects in collage. In real life people are creating new relationships based on common friends and belonging to a certain social circles.\n",
        "\n",
        "Link Prediction Algorithms do exectly this!\n",
        "They predict the availability of near future relationships based on the schema of the graph and the way that the entities are conencted to each other in the network.\n",
        "\n",
        "With link predictions on graph databases we can predict new relationships in a more life-like way to gain more accurate and intelligent results."
      ]
    },
    {
      "cell_type": "markdown",
      "metadata": {
        "id": "7oZdWQ2UL8WI",
        "colab_type": "text"
      },
      "source": [
        "## Supervised learning\n",
        "\n",
        "You will take the supervised learning approach where you use the scores as features to train a binary classifier. The binary classifier then predicts whether a pair of nodes will have a link.\n",
        "\n",
        "## Train and test datasets \n",
        "\n",
        "Next, you must create the train and test datasets on which you can build, and then evaluate a model.\n",
        "\n",
        "## Positive examples\n",
        "\n",
        "we need to split the graph into training and test sub graphs. We can split the graph according to the relationship's employ_id between people at the median. The training set will be from ID lower than the median, the test set from larger.\n",
        "\n",
        "Subsequently, pairs of nodes in our train and test datasets will have relationships between them. They will be the __positive examples__ in your machine learning model.\n",
        "\n",
        "Let's find out what our employ_id median is:"
      ]
    },
    {
      "cell_type": "code",
      "metadata": {
        "id": "pGTXXZBdW1Ge",
        "colab_type": "code",
        "colab": {
          "base_uri": "https://localhost:8080/",
          "height": 34
        },
        "outputId": "71f14afa-8c7c-48df-b4c6-c15dc15733da"
      },
      "source": [
        "query = \"\"\"\n",
        "MATCH (person:Person)<-[r:RELATED]->(other_person:Person) \n",
        "WITH toInteger(person.`Emp.No`) + toInteger(other_person.`Emp.No`) AS employ_id\n",
        "ORDER BY employ_id\n",
        "RETURN employ_id\n",
        "\"\"\"\n",
        "employ_ids = graph.run(query).to_data_frame()[\"employ_id\"]\n",
        "\n",
        "median = statistics.median(employ_ids)\n",
        "print(median)"
      ],
      "execution_count": 81,
      "outputs": [
        {
          "output_type": "stream",
          "text": [
            "5946.0\n"
          ],
          "name": "stdout"
        }
      ]
    },
    {
      "cell_type": "markdown",
      "metadata": {
        "id": "LdnRRk9ERNsR",
        "colab_type": "text"
      },
      "source": [
        "It looks like our employ_id median is 5946. So this is where we are going to split our datasets.\n",
        "\n",
        "Let's create explicit `RELATED_BEFORE` and `RELATED_AFTER` relationships in the graph based on that employ_id. The following code will create these relationships:"
      ]
    },
    {
      "cell_type": "code",
      "metadata": {
        "id": "n13DpczCO5vJ",
        "colab_type": "code",
        "colab": {
          "base_uri": "https://localhost:8080/",
          "height": 221
        },
        "outputId": "2c91503a-2357-422e-bf69-6694b71fb8b1"
      },
      "source": [
        "query = \"\"\"\n",
        "MATCH (person:Person)<-[r:RELATED]->(other_person:Person) \n",
        "where toInteger(person.`Emp.No`) + toInteger(other_person.`Emp.No`) < 5946\n",
        "MERGE (person)<-[new_r:RELATED_BEFORE]->(other_person)\n",
        "SET new_r.value = r.value\n",
        "\"\"\"\n",
        "\n",
        "graph.run(query).stats()"
      ],
      "execution_count": 82,
      "outputs": [
        {
          "output_type": "execute_result",
          "data": {
            "text/plain": [
              "{'constraints_added': 0,\n",
              " 'constraints_removed': 0,\n",
              " 'contains_updates': True,\n",
              " 'indexes_added': 0,\n",
              " 'indexes_removed': 0,\n",
              " 'labels_added': 0,\n",
              " 'labels_removed': 0,\n",
              " 'nodes_created': 0,\n",
              " 'nodes_deleted': 0,\n",
              " 'properties_set': 0,\n",
              " 'relationships_created': 2193,\n",
              " 'relationships_deleted': 0}"
            ]
          },
          "metadata": {
            "tags": []
          },
          "execution_count": 82
        }
      ]
    },
    {
      "cell_type": "code",
      "metadata": {
        "id": "A9dAudNMR-g5",
        "colab_type": "code",
        "colab": {
          "base_uri": "https://localhost:8080/",
          "height": 221
        },
        "outputId": "082efa4c-5fed-41e3-f753-c44df5496185"
      },
      "source": [
        "query = \"\"\"\n",
        "MATCH (person:Person)<-[r:RELATED]->(other_person:Person) \n",
        "where toInteger(person.`Emp.No`) + toInteger(other_person.`Emp.No`) >= 5946\n",
        "MERGE (person)<-[new_r:RELATED_AFTER]->(other_person)\n",
        "SET new_r.value = r.value\n",
        "\"\"\"\n",
        "\n",
        "graph.run(query).stats()"
      ],
      "execution_count": 83,
      "outputs": [
        {
          "output_type": "execute_result",
          "data": {
            "text/plain": [
              "{'constraints_added': 0,\n",
              " 'constraints_removed': 0,\n",
              " 'contains_updates': True,\n",
              " 'indexes_added': 0,\n",
              " 'indexes_removed': 0,\n",
              " 'labels_added': 0,\n",
              " 'labels_removed': 0,\n",
              " 'nodes_created': 0,\n",
              " 'nodes_deleted': 0,\n",
              " 'properties_set': 0,\n",
              " 'relationships_created': 2194,\n",
              " 'relationships_deleted': 0}"
            ]
          },
          "metadata": {
            "tags": []
          },
          "execution_count": 83
        }
      ]
    },
    {
      "cell_type": "markdown",
      "metadata": {
        "id": "2tCxiQNZSKmy",
        "colab_type": "text"
      },
      "source": [
        "Determine how many RELATED relationship you have in each of these sub graphs:"
      ]
    },
    {
      "cell_type": "code",
      "metadata": {
        "id": "Xabxn9eYSKDO",
        "colab_type": "code",
        "colab": {
          "base_uri": "https://localhost:8080/",
          "height": 80
        },
        "outputId": "23eef0e6-9dbd-4782-9acd-caaecb5a566d"
      },
      "source": [
        "query = \"\"\"\n",
        "MATCH (:Person)<-[:RELATED_BEFORE]->(:Person)\n",
        "RETURN count(*) AS count\n",
        "\"\"\"\n",
        "\n",
        "graph.run(query).to_data_frame()"
      ],
      "execution_count": 84,
      "outputs": [
        {
          "output_type": "execute_result",
          "data": {
            "text/html": [
              "<div>\n",
              "<style scoped>\n",
              "    .dataframe tbody tr th:only-of-type {\n",
              "        vertical-align: middle;\n",
              "    }\n",
              "\n",
              "    .dataframe tbody tr th {\n",
              "        vertical-align: top;\n",
              "    }\n",
              "\n",
              "    .dataframe thead th {\n",
              "        text-align: right;\n",
              "    }\n",
              "</style>\n",
              "<table border=\"1\" class=\"dataframe\">\n",
              "  <thead>\n",
              "    <tr style=\"text-align: right;\">\n",
              "      <th></th>\n",
              "      <th>count</th>\n",
              "    </tr>\n",
              "  </thead>\n",
              "  <tbody>\n",
              "    <tr>\n",
              "      <th>0</th>\n",
              "      <td>4386</td>\n",
              "    </tr>\n",
              "  </tbody>\n",
              "</table>\n",
              "</div>"
            ],
            "text/plain": [
              "   count\n",
              "0   4386"
            ]
          },
          "metadata": {
            "tags": []
          },
          "execution_count": 84
        }
      ]
    },
    {
      "cell_type": "code",
      "metadata": {
        "id": "MRrv1HAHSTi_",
        "colab_type": "code",
        "colab": {
          "base_uri": "https://localhost:8080/",
          "height": 80
        },
        "outputId": "9a4c1bc3-5937-4613-9f6a-3737eebfda0d"
      },
      "source": [
        "query = \"\"\"\n",
        "MATCH (:Person)<-[:RELATED_AFTER]->(:Person)\n",
        "RETURN count(*) AS count\n",
        "\"\"\"\n",
        "\n",
        "graph.run(query).to_data_frame()"
      ],
      "execution_count": 85,
      "outputs": [
        {
          "output_type": "execute_result",
          "data": {
            "text/html": [
              "<div>\n",
              "<style scoped>\n",
              "    .dataframe tbody tr th:only-of-type {\n",
              "        vertical-align: middle;\n",
              "    }\n",
              "\n",
              "    .dataframe tbody tr th {\n",
              "        vertical-align: top;\n",
              "    }\n",
              "\n",
              "    .dataframe thead th {\n",
              "        text-align: right;\n",
              "    }\n",
              "</style>\n",
              "<table border=\"1\" class=\"dataframe\">\n",
              "  <thead>\n",
              "    <tr style=\"text-align: right;\">\n",
              "      <th></th>\n",
              "      <th>count</th>\n",
              "    </tr>\n",
              "  </thead>\n",
              "  <tbody>\n",
              "    <tr>\n",
              "      <th>0</th>\n",
              "      <td>4388</td>\n",
              "    </tr>\n",
              "  </tbody>\n",
              "</table>\n",
              "</div>"
            ],
            "text/plain": [
              "   count\n",
              "0   4388"
            ]
          },
          "metadata": {
            "tags": []
          },
          "execution_count": 85
        }
      ]
    },
    {
      "cell_type": "markdown",
      "metadata": {
        "id": "qL91nG0YStaG",
        "colab_type": "text"
      },
      "source": [
        "This graph has a split of nearly 50-50, which is great! Next, we create our negative examples"
      ]
    },
    {
      "cell_type": "markdown",
      "metadata": {
        "id": "RgPKbRTbTVkU",
        "colab_type": "text"
      },
      "source": [
        "## Negative examples\n",
        "\n",
        "The simplest approach is to use all pair of nodes that don’t have a relationship. __The problem with this approach is that there are significantly more examples of pairs of nodes that don’t have a relationship than there are pairs of nodes that do__.\n",
        "\n",
        "If you were to use all of these negative examples in your training set, you would have a massive class imbalance — there are many negative examples and relatively few positive ones.\n",
        "\n",
        "You need to reduce the number of negative examples. An approach described in several link prediction papers is to use pairs of nodes that are a __specific number of hops away from each other__.\n",
        "\n",
        "This will significantly reduce the number of negative examples, although there will still be a lot more negative examples than positive.\n",
        "\n",
        "To solve this problem, you either need to down sample the negative examples or up sample the positive examples.\n",
        "\n",
        "You will take the down sampling approach. The following function will do this:"
      ]
    },
    {
      "cell_type": "code",
      "metadata": {
        "id": "LTEJdzRVUC4Q",
        "colab_type": "code",
        "colab": {}
      },
      "source": [
        "def down_sample(df):\n",
        "    copy = df.copy()\n",
        "    zero = Counter(copy.label.values)[0]\n",
        "    un = Counter(copy.label.values)[1]\n",
        "    n = zero - un\n",
        "    copy = copy.drop(copy[copy.label == 0].sample(n=n, random_state=1).index)\n",
        "    return copy.sample(frac=1)"
      ],
      "execution_count": 0,
      "outputs": []
    },
    {
      "cell_type": "markdown",
      "metadata": {
        "id": "LUQsiPazURKO",
        "colab_type": "text"
      },
      "source": [
        "Now you are ready to build the train and test datasets based on the train and test sub graphs that you created. \n",
        "\n",
        "* The positive examples will be taken directly from the graph. \n",
        "* The negative examples will be found by looking for people who are 2 or 3 hops away from each other, excluding those that have already collaborated. You will then down sample those examples to equal the size of the positive examples. "
      ]
    },
    {
      "cell_type": "code",
      "metadata": {
        "id": "AW2bwcX2UwPu",
        "colab_type": "code",
        "colab": {}
      },
      "source": [
        "train_existing_links = graph.run(\"\"\"\n",
        "MATCH (person:Person)<-[:RELATED_BEFORE]->(other_person:Person)\n",
        "RETURN id(person) AS node1, id(other_person) AS node2, 1 AS label\n",
        "\"\"\").to_data_frame()\n",
        "\n",
        "train_missing_links = graph.run(\"\"\"\n",
        "MATCH (person:Person)\n",
        "WHERE (person)<-[:RELATED_BEFORE]->(:Person)\n",
        "MATCH (person)<-[:RELATED_BEFORE*2..3]->(other_person:Person)\n",
        "WHERE not((person)<-[:RELATED_BEFORE]->(other_person))\n",
        "RETURN id(person) AS node1, id(other_person) AS node2, 0 AS label\n",
        "\"\"\").to_data_frame()\n",
        "train_missing_links = train_missing_links.drop_duplicates()"
      ],
      "execution_count": 0,
      "outputs": []
    },
    {
      "cell_type": "code",
      "metadata": {
        "id": "8Uy2VcWLVRYD",
        "colab_type": "code",
        "colab": {}
      },
      "source": [
        "training_df = train_missing_links.append(train_existing_links, ignore_index=True)\n",
        "training_df['label'] = training_df['label'].astype('category')\n",
        "training_df = down_sample(training_df)"
      ],
      "execution_count": 0,
      "outputs": []
    },
    {
      "cell_type": "markdown",
      "metadata": {
        "id": "MME5XIi5Yvmd",
        "colab_type": "text"
      },
      "source": [
        "Now let's have a look what our train DataFrame contains:"
      ]
    },
    {
      "cell_type": "code",
      "metadata": {
        "id": "uoNwA4bZYwnb",
        "colab_type": "code",
        "colab": {
          "base_uri": "https://localhost:8080/",
          "height": 204
        },
        "outputId": "eae65711-c6d6-4d29-87b1-8baafaf2cd51"
      },
      "source": [
        "training_df.head()"
      ],
      "execution_count": 87,
      "outputs": [
        {
          "output_type": "execute_result",
          "data": {
            "text/html": [
              "<div>\n",
              "<style scoped>\n",
              "    .dataframe tbody tr th:only-of-type {\n",
              "        vertical-align: middle;\n",
              "    }\n",
              "\n",
              "    .dataframe tbody tr th {\n",
              "        vertical-align: top;\n",
              "    }\n",
              "\n",
              "    .dataframe thead th {\n",
              "        text-align: right;\n",
              "    }\n",
              "</style>\n",
              "<table border=\"1\" class=\"dataframe\">\n",
              "  <thead>\n",
              "    <tr style=\"text-align: right;\">\n",
              "      <th></th>\n",
              "      <th>node1</th>\n",
              "      <th>node2</th>\n",
              "      <th>label</th>\n",
              "    </tr>\n",
              "  </thead>\n",
              "  <tbody>\n",
              "    <tr>\n",
              "      <th>26208</th>\n",
              "      <td>78</td>\n",
              "      <td>507</td>\n",
              "      <td>0</td>\n",
              "    </tr>\n",
              "    <tr>\n",
              "      <th>45219</th>\n",
              "      <td>583</td>\n",
              "      <td>249</td>\n",
              "      <td>1</td>\n",
              "    </tr>\n",
              "    <tr>\n",
              "      <th>43343</th>\n",
              "      <td>230</td>\n",
              "      <td>510</td>\n",
              "      <td>1</td>\n",
              "    </tr>\n",
              "    <tr>\n",
              "      <th>42384</th>\n",
              "      <td>43</td>\n",
              "      <td>767</td>\n",
              "      <td>1</td>\n",
              "    </tr>\n",
              "    <tr>\n",
              "      <th>5060</th>\n",
              "      <td>31</td>\n",
              "      <td>87</td>\n",
              "      <td>0</td>\n",
              "    </tr>\n",
              "  </tbody>\n",
              "</table>\n",
              "</div>"
            ],
            "text/plain": [
              "       node1  node2 label\n",
              "26208     78    507     0\n",
              "45219    583    249     1\n",
              "43343    230    510     1\n",
              "42384     43    767     1\n",
              "5060      31     87     0"
            ]
          },
          "metadata": {
            "tags": []
          },
          "execution_count": 87
        }
      ]
    },
    {
      "cell_type": "markdown",
      "metadata": {
        "id": "Vq5Te-iuY3yp",
        "colab_type": "text"
      },
      "source": [
        "Let's repeat the process for the test set:"
      ]
    },
    {
      "cell_type": "code",
      "metadata": {
        "id": "ebkY3vu2bdYI",
        "colab_type": "code",
        "colab": {}
      },
      "source": [
        "test_existing_links = graph.run(\"\"\"\n",
        "MATCH (person:Person)<-[:RELATED_AFTER]->(other_person:Person)\n",
        "RETURN id(person) AS node1, id(other_person) AS node2, 1 AS label\n",
        "\"\"\").to_data_frame()\n",
        "\n",
        "test_missing_links = graph.run(\"\"\"\n",
        "MATCH (person:Person)\n",
        "WHERE (person)<-[:RELATED_AFTER]->(:Person)\n",
        "MATCH (person)<-[:RELATED_AFTER*2..3]->(other_person:Person)\n",
        "WHERE not((person)<-[:RELATED_AFTER]->(other_person))\n",
        "RETURN id(person) AS node1, id(other_person) AS node2, 0 AS label\n",
        "\"\"\").to_data_frame()\n",
        "test_missing_links = test_missing_links.drop_duplicates()"
      ],
      "execution_count": 0,
      "outputs": []
    },
    {
      "cell_type": "code",
      "metadata": {
        "id": "K_Pyogf3cH17",
        "colab_type": "code",
        "colab": {}
      },
      "source": [
        "test_df = test_missing_links.append(test_existing_links, ignore_index=True)\n",
        "test_df['label'] = test_df['label'].astype('category')\n",
        "test_df = down_sample(test_df)"
      ],
      "execution_count": 0,
      "outputs": []
    },
    {
      "cell_type": "markdown",
      "metadata": {
        "id": "33rJ1nZucNbu",
        "colab_type": "text"
      },
      "source": [
        "And it's time to sample our test DataFrame:"
      ]
    },
    {
      "cell_type": "code",
      "metadata": {
        "id": "cA59FhklcPXF",
        "colab_type": "code",
        "colab": {
          "base_uri": "https://localhost:8080/",
          "height": 204
        },
        "outputId": "aa266303-daf2-4c09-aa28-10c5cbe2b1b4"
      },
      "source": [
        "test_df.head()"
      ],
      "execution_count": 40,
      "outputs": [
        {
          "output_type": "execute_result",
          "data": {
            "text/html": [
              "<div>\n",
              "<style scoped>\n",
              "    .dataframe tbody tr th:only-of-type {\n",
              "        vertical-align: middle;\n",
              "    }\n",
              "\n",
              "    .dataframe tbody tr th {\n",
              "        vertical-align: top;\n",
              "    }\n",
              "\n",
              "    .dataframe thead th {\n",
              "        text-align: right;\n",
              "    }\n",
              "</style>\n",
              "<table border=\"1\" class=\"dataframe\">\n",
              "  <thead>\n",
              "    <tr style=\"text-align: right;\">\n",
              "      <th></th>\n",
              "      <th>node1</th>\n",
              "      <th>node2</th>\n",
              "      <th>label</th>\n",
              "    </tr>\n",
              "  </thead>\n",
              "  <tbody>\n",
              "    <tr>\n",
              "      <th>41132</th>\n",
              "      <td>586</td>\n",
              "      <td>315</td>\n",
              "      <td>1</td>\n",
              "    </tr>\n",
              "    <tr>\n",
              "      <th>38643</th>\n",
              "      <td>139</td>\n",
              "      <td>660</td>\n",
              "      <td>1</td>\n",
              "    </tr>\n",
              "    <tr>\n",
              "      <th>15569</th>\n",
              "      <td>491</td>\n",
              "      <td>342</td>\n",
              "      <td>0</td>\n",
              "    </tr>\n",
              "    <tr>\n",
              "      <th>39601</th>\n",
              "      <td>321</td>\n",
              "      <td>288</td>\n",
              "      <td>1</td>\n",
              "    </tr>\n",
              "    <tr>\n",
              "      <th>41610</th>\n",
              "      <td>660</td>\n",
              "      <td>387</td>\n",
              "      <td>1</td>\n",
              "    </tr>\n",
              "  </tbody>\n",
              "</table>\n",
              "</div>"
            ],
            "text/plain": [
              "       node1  node2 label\n",
              "41132    586    315     1\n",
              "38643    139    660     1\n",
              "15569    491    342     0\n",
              "39601    321    288     1\n",
              "41610    660    387     1"
            ]
          },
          "metadata": {
            "tags": []
          },
          "execution_count": 40
        }
      ]
    },
    {
      "cell_type": "markdown",
      "metadata": {
        "id": "OqG9YrmZicLZ",
        "colab_type": "text"
      },
      "source": [
        "## Choosing a machine learning algorithm\n",
        "\n",
        "Next, you will create a machine learning pipeline based on a random forest classifier. This method is well suited as this data set will be comprised of a mix of strong and weak features. While the weak features will sometimes be helpful, the random forest method will ensure that you don’t create a model that only fits the training data"
      ]
    },
    {
      "cell_type": "code",
      "metadata": {
        "id": "uApDw9YFikvU",
        "colab_type": "code",
        "colab": {}
      },
      "source": [
        "classifier = RandomForestClassifier(n_estimators=30, max_depth=10, random_state=0)"
      ],
      "execution_count": 0,
      "outputs": []
    },
    {
      "cell_type": "markdown",
      "metadata": {
        "id": "MjiLT3IEi9m0",
        "colab_type": "text"
      },
      "source": [
        "# Generating graphy features\n",
        "\n",
        "Start by creating a simple model that tries to predict whether two persons will have a future relationship based on features extracted from common neighbors, preferential attachment, and the total union of neighbors.\n",
        "\n",
        "All of those algorithms are part of the link-prediction graph algorithms library of Neo4j but they are also a great human-like way to predict new relationships between people - People that have a lot of friends and that are very social have a great chance of meeting new friends.\n",
        "In addition, if two people have a lot of common friends, they also have a very big chance that one of them will introduce the two. \n",
        "\n",
        "The algorithms will generate a score for each pair of nodes that indicates the similiarity between them taken from the graph topology.\n",
        "\n",
        "Later, we will let the machine learning classifier to learn the closeness of each pair of nodes according to those generated scores.\n",
        "\n",
        "The following function computes each of these measures for pairs of nodes:"
      ]
    },
    {
      "cell_type": "code",
      "metadata": {
        "id": "KsG2penbjJmf",
        "colab_type": "code",
        "colab": {}
      },
      "source": [
        "def apply_graphy_features(data, rel_type):\n",
        "    query = \"\"\"\n",
        "    UNWIND $pairs AS pair\n",
        "    MATCH (p1) WHERE id(p1) = pair.node1\n",
        "    MATCH (p2) WHERE id(p2) = pair.node2\n",
        "    RETURN pair.node1 AS node1,\n",
        "           pair.node2 AS node2,\n",
        "           algo.linkprediction.commonNeighbors(\n",
        "               p1, p2, {relationshipQuery: $relType}) AS cn,\n",
        "           algo.linkprediction.preferentialAttachment(\n",
        "               p1, p2, {relationshipQuery: $relType}) AS pa,\n",
        "           algo.linkprediction.totalNeighbors(\n",
        "               p1, p2, {relationshipQuery: $relType}) AS tn\n",
        "    \"\"\"\n",
        "    pairs = [{\"node1\": node1, \"node2\": node2}  for node1, node2 in data[[\"node1\", \"node2\"]].values.tolist()]\n",
        "    features = graph.run(query, {\"pairs\": pairs, \"relType\": rel_type}).to_data_frame()\n",
        "    return pd.merge(data, features, on = [\"node1\", \"node2\"])"
      ],
      "execution_count": 0,
      "outputs": []
    },
    {
      "cell_type": "markdown",
      "metadata": {
        "id": "UON4G6qsjWoJ",
        "colab_type": "text"
      },
      "source": [
        "Now apply the function to the training DataFrame:"
      ]
    },
    {
      "cell_type": "code",
      "metadata": {
        "id": "HtDCHQ2XjXa1",
        "colab_type": "code",
        "colab": {}
      },
      "source": [
        "training_df = apply_graphy_features(training_df, \"RELATED_BEFORE\")"
      ],
      "execution_count": 0,
      "outputs": []
    },
    {
      "cell_type": "markdown",
      "metadata": {
        "id": "kvVX-GZejeOF",
        "colab_type": "text"
      },
      "source": [
        "This is what the DataFrame looks like now:"
      ]
    },
    {
      "cell_type": "code",
      "metadata": {
        "id": "8ulP35b7je25",
        "colab_type": "code",
        "colab": {
          "base_uri": "https://localhost:8080/",
          "height": 204
        },
        "outputId": "7b6abb5c-6834-4f3b-a89c-cbdd7764496d"
      },
      "source": [
        "training_df.head()"
      ],
      "execution_count": 44,
      "outputs": [
        {
          "output_type": "execute_result",
          "data": {
            "text/html": [
              "<div>\n",
              "<style scoped>\n",
              "    .dataframe tbody tr th:only-of-type {\n",
              "        vertical-align: middle;\n",
              "    }\n",
              "\n",
              "    .dataframe tbody tr th {\n",
              "        vertical-align: top;\n",
              "    }\n",
              "\n",
              "    .dataframe thead th {\n",
              "        text-align: right;\n",
              "    }\n",
              "</style>\n",
              "<table border=\"1\" class=\"dataframe\">\n",
              "  <thead>\n",
              "    <tr style=\"text-align: right;\">\n",
              "      <th></th>\n",
              "      <th>node1</th>\n",
              "      <th>node2</th>\n",
              "      <th>label</th>\n",
              "      <th>cn</th>\n",
              "      <th>pa</th>\n",
              "      <th>tn</th>\n",
              "      <th>aa</th>\n",
              "    </tr>\n",
              "  </thead>\n",
              "  <tbody>\n",
              "    <tr>\n",
              "      <th>0</th>\n",
              "      <td>542</td>\n",
              "      <td>80</td>\n",
              "      <td>0</td>\n",
              "      <td>2.000</td>\n",
              "      <td>378.000</td>\n",
              "      <td>37.000</td>\n",
              "      <td>0.647</td>\n",
              "    </tr>\n",
              "    <tr>\n",
              "      <th>1</th>\n",
              "      <td>315</td>\n",
              "      <td>34</td>\n",
              "      <td>0</td>\n",
              "      <td>0.000</td>\n",
              "      <td>243.000</td>\n",
              "      <td>36.000</td>\n",
              "      <td>0.000</td>\n",
              "    </tr>\n",
              "    <tr>\n",
              "      <th>2</th>\n",
              "      <td>156</td>\n",
              "      <td>126</td>\n",
              "      <td>1</td>\n",
              "      <td>11.000</td>\n",
              "      <td>156.000</td>\n",
              "      <td>14.000</td>\n",
              "      <td>4.372</td>\n",
              "    </tr>\n",
              "    <tr>\n",
              "      <th>3</th>\n",
              "      <td>416</td>\n",
              "      <td>668</td>\n",
              "      <td>0</td>\n",
              "      <td>0.000</td>\n",
              "      <td>24.000</td>\n",
              "      <td>10.000</td>\n",
              "      <td>0.000</td>\n",
              "    </tr>\n",
              "    <tr>\n",
              "      <th>4</th>\n",
              "      <td>166</td>\n",
              "      <td>190</td>\n",
              "      <td>1</td>\n",
              "      <td>13.000</td>\n",
              "      <td>256.000</td>\n",
              "      <td>19.000</td>\n",
              "      <td>4.984</td>\n",
              "    </tr>\n",
              "  </tbody>\n",
              "</table>\n",
              "</div>"
            ],
            "text/plain": [
              "   node1  node2 label     cn      pa     tn    aa\n",
              "0    542     80     0  2.000 378.000 37.000 0.647\n",
              "1    315     34     0  0.000 243.000 36.000 0.000\n",
              "2    156    126     1 11.000 156.000 14.000 4.372\n",
              "3    416    668     0  0.000  24.000 10.000 0.000\n",
              "4    166    190     1 13.000 256.000 19.000 4.984"
            ]
          },
          "metadata": {
            "tags": []
          },
          "execution_count": 44
        }
      ]
    },
    {
      "cell_type": "markdown",
      "metadata": {
        "id": "FSUELukZjjX6",
        "colab_type": "text"
      },
      "source": [
        "Do the same to the test DataFrame:"
      ]
    },
    {
      "cell_type": "code",
      "metadata": {
        "id": "ICy3dRibj2cg",
        "colab_type": "code",
        "colab": {}
      },
      "source": [
        "test_df = apply_graphy_features(test_df, \"RELATED_AFTER\")"
      ],
      "execution_count": 0,
      "outputs": []
    },
    {
      "cell_type": "code",
      "metadata": {
        "id": "hlRdUYSQj7ta",
        "colab_type": "code",
        "colab": {
          "base_uri": "https://localhost:8080/",
          "height": 204
        },
        "outputId": "53edcf19-0de5-4813-d651-084d812f1a6f"
      },
      "source": [
        "test_df.head()"
      ],
      "execution_count": 58,
      "outputs": [
        {
          "output_type": "execute_result",
          "data": {
            "text/html": [
              "<div>\n",
              "<style scoped>\n",
              "    .dataframe tbody tr th:only-of-type {\n",
              "        vertical-align: middle;\n",
              "    }\n",
              "\n",
              "    .dataframe tbody tr th {\n",
              "        vertical-align: top;\n",
              "    }\n",
              "\n",
              "    .dataframe thead th {\n",
              "        text-align: right;\n",
              "    }\n",
              "</style>\n",
              "<table border=\"1\" class=\"dataframe\">\n",
              "  <thead>\n",
              "    <tr style=\"text-align: right;\">\n",
              "      <th></th>\n",
              "      <th>node1</th>\n",
              "      <th>node2</th>\n",
              "      <th>label</th>\n",
              "      <th>cn</th>\n",
              "      <th>pa</th>\n",
              "      <th>tn</th>\n",
              "    </tr>\n",
              "  </thead>\n",
              "  <tbody>\n",
              "    <tr>\n",
              "      <th>0</th>\n",
              "      <td>138</td>\n",
              "      <td>272</td>\n",
              "      <td>1</td>\n",
              "      <td>0.000</td>\n",
              "      <td>2.000</td>\n",
              "      <td>3.000</td>\n",
              "    </tr>\n",
              "    <tr>\n",
              "      <th>1</th>\n",
              "      <td>448</td>\n",
              "      <td>657</td>\n",
              "      <td>1</td>\n",
              "      <td>3.000</td>\n",
              "      <td>32.000</td>\n",
              "      <td>9.000</td>\n",
              "    </tr>\n",
              "    <tr>\n",
              "      <th>2</th>\n",
              "      <td>573</td>\n",
              "      <td>228</td>\n",
              "      <td>0</td>\n",
              "      <td>0.000</td>\n",
              "      <td>52.000</td>\n",
              "      <td>17.000</td>\n",
              "    </tr>\n",
              "    <tr>\n",
              "      <th>3</th>\n",
              "      <td>514</td>\n",
              "      <td>230</td>\n",
              "      <td>0</td>\n",
              "      <td>0.000</td>\n",
              "      <td>315.000</td>\n",
              "      <td>36.000</td>\n",
              "    </tr>\n",
              "    <tr>\n",
              "      <th>4</th>\n",
              "      <td>296</td>\n",
              "      <td>176</td>\n",
              "      <td>1</td>\n",
              "      <td>3.000</td>\n",
              "      <td>75.000</td>\n",
              "      <td>17.000</td>\n",
              "    </tr>\n",
              "  </tbody>\n",
              "</table>\n",
              "</div>"
            ],
            "text/plain": [
              "   node1  node2 label    cn      pa     tn\n",
              "0    138    272     1 0.000   2.000  3.000\n",
              "1    448    657     1 3.000  32.000  9.000\n",
              "2    573    228     0 0.000  52.000 17.000\n",
              "3    514    230     0 0.000 315.000 36.000\n",
              "4    296    176     1 3.000  75.000 17.000"
            ]
          },
          "metadata": {
            "tags": []
          },
          "execution_count": 58
        }
      ]
    },
    {
      "cell_type": "markdown",
      "metadata": {
        "id": "y07dYgWGkKgN",
        "colab_type": "text"
      },
      "source": [
        "Next, you will build a model based on these graphy features.\n",
        "\n",
        "The following code builds a random forest model, evaluates it against the test dataset, and then indicates which of the features had the most importance in the model.\n",
        "\n",
        "First, let's include only the common neighbors feature and see what happens"
      ]
    },
    {
      "cell_type": "code",
      "metadata": {
        "id": "MLb2rNQIkf3C",
        "colab_type": "code",
        "colab": {
          "base_uri": "https://localhost:8080/",
          "height": 153
        },
        "outputId": "45bea368-1cb9-44dc-cd3b-4203992d472b"
      },
      "source": [
        "columns = [\"cn\"]\n",
        "\n",
        "X = training_df[columns]\n",
        "y = training_df[\"label\"]\n",
        "classifier.fit(X, y)"
      ],
      "execution_count": 95,
      "outputs": [
        {
          "output_type": "execute_result",
          "data": {
            "text/plain": [
              "RandomForestClassifier(bootstrap=True, ccp_alpha=0.0, class_weight=None,\n",
              "                       criterion='gini', max_depth=10, max_features='auto',\n",
              "                       max_leaf_nodes=None, max_samples=None,\n",
              "                       min_impurity_decrease=0.0, min_impurity_split=None,\n",
              "                       min_samples_leaf=1, min_samples_split=2,\n",
              "                       min_weight_fraction_leaf=0.0, n_estimators=30,\n",
              "                       n_jobs=None, oob_score=False, random_state=0, verbose=0,\n",
              "                       warm_start=False)"
            ]
          },
          "metadata": {
            "tags": []
          },
          "execution_count": 95
        }
      ]
    },
    {
      "cell_type": "markdown",
      "metadata": {
        "id": "5yZrGGszkjid",
        "colab_type": "text"
      },
      "source": [
        "Next, you need to evaluate the model. You will compute its accuracy, precision, and recall. Then, you will return the importance of each feature used in the model. The following functions will help with this:"
      ]
    },
    {
      "cell_type": "code",
      "metadata": {
        "id": "EgFcaLjBkc9E",
        "colab_type": "code",
        "colab": {}
      },
      "source": [
        "def evaluate_model(predictions, actual):\n",
        "    return pd.DataFrame({\n",
        "        \"Measure\": [\"Accuracy\", \"Precision\", \"Recall\"],\n",
        "        \"Score\": [accuracy_score(actual, predictions), \n",
        "                  precision_score(actual, predictions), \n",
        "                  recall_score(actual, predictions)]\n",
        "    })\n",
        "\n",
        "def feature_importance(columns, classifier):        \n",
        "    display(\"Feature Importance\")\n",
        "    df = pd.DataFrame({\n",
        "        \"Feature\": columns,\n",
        "        \"Importance\": classifier.feature_importances_\n",
        "    })\n",
        "    df = df.sort_values(\"Importance\", ascending=False)    \n",
        "    ax = df.plot(kind='bar', x='Feature', y='Importance', legend=None)\n",
        "    ax.xaxis.set_label_text(\"\")\n",
        "    plt.tight_layout()\n",
        "    plt.show()"
      ],
      "execution_count": 0,
      "outputs": []
    },
    {
      "cell_type": "code",
      "metadata": {
        "id": "RMp9RkgZkymZ",
        "colab_type": "code",
        "colab": {
          "base_uri": "https://localhost:8080/",
          "height": 431
        },
        "outputId": "94899487-ee1d-4814-9b67-620eac844db8"
      },
      "source": [
        "predictions = classifier.predict(test_df[columns])\n",
        "y_test = test_df[\"label\"]\n",
        "\n",
        "display(evaluate_model(predictions, y_test))\n",
        "feature_importance(columns, classifier)"
      ],
      "execution_count": 97,
      "outputs": [
        {
          "output_type": "display_data",
          "data": {
            "text/html": [
              "<div>\n",
              "<style scoped>\n",
              "    .dataframe tbody tr th:only-of-type {\n",
              "        vertical-align: middle;\n",
              "    }\n",
              "\n",
              "    .dataframe tbody tr th {\n",
              "        vertical-align: top;\n",
              "    }\n",
              "\n",
              "    .dataframe thead th {\n",
              "        text-align: right;\n",
              "    }\n",
              "</style>\n",
              "<table border=\"1\" class=\"dataframe\">\n",
              "  <thead>\n",
              "    <tr style=\"text-align: right;\">\n",
              "      <th></th>\n",
              "      <th>Measure</th>\n",
              "      <th>Score</th>\n",
              "    </tr>\n",
              "  </thead>\n",
              "  <tbody>\n",
              "    <tr>\n",
              "      <th>0</th>\n",
              "      <td>Accuracy</td>\n",
              "      <td>0.855</td>\n",
              "    </tr>\n",
              "    <tr>\n",
              "      <th>1</th>\n",
              "      <td>Precision</td>\n",
              "      <td>0.917</td>\n",
              "    </tr>\n",
              "    <tr>\n",
              "      <th>2</th>\n",
              "      <td>Recall</td>\n",
              "      <td>0.780</td>\n",
              "    </tr>\n",
              "  </tbody>\n",
              "</table>\n",
              "</div>"
            ],
            "text/plain": [
              "     Measure  Score\n",
              "0   Accuracy  0.855\n",
              "1  Precision  0.917\n",
              "2     Recall  0.780"
            ]
          },
          "metadata": {
            "tags": []
          }
        },
        {
          "output_type": "display_data",
          "data": {
            "text/plain": [
              "'Feature Importance'"
            ]
          },
          "metadata": {
            "tags": []
          }
        },
        {
          "output_type": "display_data",
          "data": {
            "image/png": "[encoded data removed]",
            "text/plain": [
              "<Figure size 432x288 with 1 Axes>"
            ]
          },
          "metadata": {
            "tags": []
          }
        }
      ]
    },
    {
      "cell_type": "markdown",
      "metadata": {
        "id": "p4RQX8yfnSRe",
        "colab_type": "text"
      },
      "source": [
        "So, we let the classifier to learn when two persons are connceted to each other based on just how many common friends they have.\n",
        "\n",
        "The scores for accuracy and precision are adequate, but the recall is not very good.\n",
        "\n",
        "But that is not enough.\n",
        "What happens if you include more algorithms to our learning and let our classifier information gathered from other aspects of our graph topology like preferential attachment and total neighbors as well?"
      ]
    },
    {
      "cell_type": "code",
      "metadata": {
        "id": "Ju3cjODPn-Xc",
        "colab_type": "code",
        "colab": {
          "base_uri": "https://localhost:8080/",
          "height": 431
        },
        "outputId": "9aadaff2-0327-4556-8e08-b5220464fe7b"
      },
      "source": [
        "columns = [\"cn\",  \"pa\", \"tn\"]\n",
        "\n",
        "X = training_df[columns]\n",
        "y = training_df[\"label\"]\n",
        "classifier.fit(X, y)\n",
        "\n",
        "predictions = classifier.predict(test_df[columns])\n",
        "y_test = test_df[\"label\"]\n",
        "\n",
        "display(evaluate_model(predictions, y_test))\n",
        "feature_importance(columns, classifier)"
      ],
      "execution_count": 98,
      "outputs": [
        {
          "output_type": "display_data",
          "data": {
            "text/html": [
              "<div>\n",
              "<style scoped>\n",
              "    .dataframe tbody tr th:only-of-type {\n",
              "        vertical-align: middle;\n",
              "    }\n",
              "\n",
              "    .dataframe tbody tr th {\n",
              "        vertical-align: top;\n",
              "    }\n",
              "\n",
              "    .dataframe thead th {\n",
              "        text-align: right;\n",
              "    }\n",
              "</style>\n",
              "<table border=\"1\" class=\"dataframe\">\n",
              "  <thead>\n",
              "    <tr style=\"text-align: right;\">\n",
              "      <th></th>\n",
              "      <th>Measure</th>\n",
              "      <th>Score</th>\n",
              "    </tr>\n",
              "  </thead>\n",
              "  <tbody>\n",
              "    <tr>\n",
              "      <th>0</th>\n",
              "      <td>Accuracy</td>\n",
              "      <td>0.876</td>\n",
              "    </tr>\n",
              "    <tr>\n",
              "      <th>1</th>\n",
              "      <td>Precision</td>\n",
              "      <td>0.908</td>\n",
              "    </tr>\n",
              "    <tr>\n",
              "      <th>2</th>\n",
              "      <td>Recall</td>\n",
              "      <td>0.836</td>\n",
              "    </tr>\n",
              "  </tbody>\n",
              "</table>\n",
              "</div>"
            ],
            "text/plain": [
              "     Measure  Score\n",
              "0   Accuracy  0.876\n",
              "1  Precision  0.908\n",
              "2     Recall  0.836"
            ]
          },
          "metadata": {
            "tags": []
          }
        },
        {
          "output_type": "display_data",
          "data": {
            "text/plain": [
              "'Feature Importance'"
            ]
          },
          "metadata": {
            "tags": []
          }
        },
        {
          "output_type": "display_data",
          "data": {
            "image/png": "[encoded data removed]",
            "text/plain": [
              "<Figure size 432x288 with 1 Axes>"
            ]
          },
          "metadata": {
            "tags": []
          }
        }
      ]
    },
    {
      "cell_type": "markdown",
      "metadata": {
        "id": "NycHY48pl0oe",
        "colab_type": "text"
      },
      "source": [
        "Common neighbors is the dominant feature, but including the two other features has improved the accuracy and recall of the model.\n",
        "\n",
        "Next, you will add some new features that are generated from graph algorithms."
      ]
    },
    {
      "cell_type": "markdown",
      "metadata": {
        "id": "RHjdNcEdl3rB",
        "colab_type": "text"
      },
      "source": [
        "## Triangles and The Clustering Coefficient\n",
        "\n",
        "Start by running the triangle count algorithm over the test and train sub-graphs. This algorithm will return the number of triangles that each node forms, as well as each node's clustering coefficient. The clustering coefficient of a node indicates the likelihood that its neighbors are also connected.\n",
        "\n",
        "The triangle algorithms are important for our learning because person that have a lot of pair of friends that are also friends with each other have a larger chance to introduce their other friends to each other."
      ]
    },
    {
      "cell_type": "code",
      "metadata": {
        "id": "-wcAg1qSmAxD",
        "colab_type": "code",
        "colab": {
          "base_uri": "https://localhost:8080/",
          "height": 100
        },
        "outputId": "d64aa2da-a133-4533-dead-15c5b641305e"
      },
      "source": [
        "graph.run(\"\"\"\n",
        "CALL algo.triangleCount('Person', 'RELATED_BEFORE', { write:true,\n",
        "writeProperty:'trianglesTrain', clusteringCoefficientProperty:'coefficientTrain'});\n",
        "\"\"\").to_data_frame()"
      ],
      "execution_count": 99,
      "outputs": [
        {
          "output_type": "execute_result",
          "data": {
            "text/html": [
              "<div>\n",
              "<style scoped>\n",
              "    .dataframe tbody tr th:only-of-type {\n",
              "        vertical-align: middle;\n",
              "    }\n",
              "\n",
              "    .dataframe tbody tr th {\n",
              "        vertical-align: top;\n",
              "    }\n",
              "\n",
              "    .dataframe thead th {\n",
              "        text-align: right;\n",
              "    }\n",
              "</style>\n",
              "<table border=\"1\" class=\"dataframe\">\n",
              "  <thead>\n",
              "    <tr style=\"text-align: right;\">\n",
              "      <th></th>\n",
              "      <th>loadMillis</th>\n",
              "      <th>computeMillis</th>\n",
              "      <th>writeMillis</th>\n",
              "      <th>postProcessingMillis</th>\n",
              "      <th>nodeCount</th>\n",
              "      <th>triangleCount</th>\n",
              "      <th>averageClusteringCoefficient</th>\n",
              "      <th>p1</th>\n",
              "      <th>p5</th>\n",
              "      <th>p10</th>\n",
              "      <th>p25</th>\n",
              "      <th>p50</th>\n",
              "      <th>p75</th>\n",
              "      <th>p90</th>\n",
              "      <th>p95</th>\n",
              "      <th>p99</th>\n",
              "      <th>p100</th>\n",
              "      <th>write</th>\n",
              "      <th>writeProperty</th>\n",
              "      <th>clusteringCoefficientProperty</th>\n",
              "    </tr>\n",
              "  </thead>\n",
              "  <tbody>\n",
              "    <tr>\n",
              "      <th>0</th>\n",
              "      <td>4</td>\n",
              "      <td>3</td>\n",
              "      <td>0</td>\n",
              "      <td>6</td>\n",
              "      <td>800</td>\n",
              "      <td>4511</td>\n",
              "      <td>0.453</td>\n",
              "      <td>0</td>\n",
              "      <td>0</td>\n",
              "      <td>0</td>\n",
              "      <td>0</td>\n",
              "      <td>2</td>\n",
              "      <td>18</td>\n",
              "      <td>57</td>\n",
              "      <td>82</td>\n",
              "      <td>168</td>\n",
              "      <td>214</td>\n",
              "      <td>True</td>\n",
              "      <td>trianglesTrain</td>\n",
              "      <td>coefficientTrain</td>\n",
              "    </tr>\n",
              "  </tbody>\n",
              "</table>\n",
              "</div>"
            ],
            "text/plain": [
              "   loadMillis  computeMillis  ...   writeProperty  clusteringCoefficientProperty\n",
              "0           4              3  ...  trianglesTrain               coefficientTrain\n",
              "\n",
              "[1 rows x 20 columns]"
            ]
          },
          "metadata": {
            "tags": []
          },
          "execution_count": 99
        }
      ]
    },
    {
      "cell_type": "code",
      "metadata": {
        "id": "DITSkKP-mIe7",
        "colab_type": "code",
        "colab": {
          "base_uri": "https://localhost:8080/",
          "height": 100
        },
        "outputId": "dd5c8841-2176-4afc-ccd8-443c267a96d8"
      },
      "source": [
        "graph.run(\"\"\"\n",
        "CALL algo.triangleCount('Person', 'RELATED_AFTER', { write:true,\n",
        "writeProperty:'trianglesTest', clusteringCoefficientProperty:'coefficientTest'});\n",
        "\"\"\").to_data_frame()"
      ],
      "execution_count": 100,
      "outputs": [
        {
          "output_type": "execute_result",
          "data": {
            "text/html": [
              "<div>\n",
              "<style scoped>\n",
              "    .dataframe tbody tr th:only-of-type {\n",
              "        vertical-align: middle;\n",
              "    }\n",
              "\n",
              "    .dataframe tbody tr th {\n",
              "        vertical-align: top;\n",
              "    }\n",
              "\n",
              "    .dataframe thead th {\n",
              "        text-align: right;\n",
              "    }\n",
              "</style>\n",
              "<table border=\"1\" class=\"dataframe\">\n",
              "  <thead>\n",
              "    <tr style=\"text-align: right;\">\n",
              "      <th></th>\n",
              "      <th>loadMillis</th>\n",
              "      <th>computeMillis</th>\n",
              "      <th>writeMillis</th>\n",
              "      <th>postProcessingMillis</th>\n",
              "      <th>nodeCount</th>\n",
              "      <th>triangleCount</th>\n",
              "      <th>averageClusteringCoefficient</th>\n",
              "      <th>p1</th>\n",
              "      <th>p5</th>\n",
              "      <th>p10</th>\n",
              "      <th>p25</th>\n",
              "      <th>p50</th>\n",
              "      <th>p75</th>\n",
              "      <th>p90</th>\n",
              "      <th>p95</th>\n",
              "      <th>p99</th>\n",
              "      <th>p100</th>\n",
              "      <th>write</th>\n",
              "      <th>writeProperty</th>\n",
              "      <th>clusteringCoefficientProperty</th>\n",
              "    </tr>\n",
              "  </thead>\n",
              "  <tbody>\n",
              "    <tr>\n",
              "      <th>0</th>\n",
              "      <td>3</td>\n",
              "      <td>3</td>\n",
              "      <td>0</td>\n",
              "      <td>6</td>\n",
              "      <td>800</td>\n",
              "      <td>4975</td>\n",
              "      <td>0.429</td>\n",
              "      <td>0</td>\n",
              "      <td>0</td>\n",
              "      <td>0</td>\n",
              "      <td>0</td>\n",
              "      <td>3</td>\n",
              "      <td>15</td>\n",
              "      <td>67</td>\n",
              "      <td>103</td>\n",
              "      <td>165</td>\n",
              "      <td>191</td>\n",
              "      <td>True</td>\n",
              "      <td>trianglesTest</td>\n",
              "      <td>coefficientTest</td>\n",
              "    </tr>\n",
              "  </tbody>\n",
              "</table>\n",
              "</div>"
            ],
            "text/plain": [
              "   loadMillis  computeMillis  ...  writeProperty  clusteringCoefficientProperty\n",
              "0           3              3  ...  trianglesTest                coefficientTest\n",
              "\n",
              "[1 rows x 20 columns]"
            ]
          },
          "metadata": {
            "tags": []
          },
          "execution_count": 100
        }
      ]
    },
    {
      "cell_type": "markdown",
      "metadata": {
        "id": "qBURXgEsmPWt",
        "colab_type": "text"
      },
      "source": [
        "The following function will add these features to the train and test DataFrames:"
      ]
    },
    {
      "cell_type": "code",
      "metadata": {
        "id": "tNQ0unr4mRPb",
        "colab_type": "code",
        "colab": {}
      },
      "source": [
        "def apply_triangles_features(data, triangles_prop, coefficient_prop):\n",
        "    query = \"\"\"\n",
        "    UNWIND $pairs AS pair\n",
        "    MATCH (p1) WHERE id(p1) = pair.node1\n",
        "    MATCH (p2) WHERE id(p2) = pair.node2\n",
        "    RETURN pair.node1 AS node1,\n",
        "    pair.node2 AS node2,\n",
        "    apoc.coll.min([p1[$trianglesProp], p2[$trianglesProp]]) AS minTriangles,\n",
        "    apoc.coll.max([p1[$trianglesProp], p2[$trianglesProp]]) AS maxTriangles,\n",
        "    apoc.coll.min([p1[$coefficientProp], p2[$coefficientProp]]) AS minCoefficient,\n",
        "    apoc.coll.max([p1[$coefficientProp], p2[$coefficientProp]]) AS maxCoefficient\n",
        "    \"\"\"    \n",
        "    pairs = [{\"node1\": node1, \"node2\": node2}  for node1, node2 in data[[\"node1\", \"node2\"]].values.tolist()]    \n",
        "    params = {\n",
        "    \"pairs\": pairs,\n",
        "    \"trianglesProp\": triangles_prop,\n",
        "    \"coefficientProp\": coefficient_prop\n",
        "    }\n",
        "    features = graph.run(query, params).to_data_frame()    \n",
        "    return pd.merge(data, features, on = [\"node1\", \"node2\"])"
      ],
      "execution_count": 0,
      "outputs": []
    },
    {
      "cell_type": "markdown",
      "metadata": {
        "id": "bYazMRoima7E",
        "colab_type": "text"
      },
      "source": [
        "Add the new features:"
      ]
    },
    {
      "cell_type": "code",
      "metadata": {
        "id": "5CCC05MCmcid",
        "colab_type": "code",
        "colab": {}
      },
      "source": [
        "training_df = apply_triangles_features(training_df, \"trianglesTrain\", \"coefficientTrain\")\n",
        "test_df = apply_triangles_features(test_df, \"trianglesTest\", \"coefficientTest\")"
      ],
      "execution_count": 0,
      "outputs": []
    },
    {
      "cell_type": "code",
      "metadata": {
        "id": "9HlIWTBmmf8D",
        "colab_type": "code",
        "colab": {}
      },
      "source": [
        "training_df.head()"
      ],
      "execution_count": 0,
      "outputs": []
    },
    {
      "cell_type": "code",
      "metadata": {
        "id": "BYfmyGkNmhqH",
        "colab_type": "code",
        "colab": {}
      },
      "source": [
        "test_df.head()"
      ],
      "execution_count": 0,
      "outputs": []
    },
    {
      "cell_type": "markdown",
      "metadata": {
        "id": "_Y_pSO26mlfh",
        "colab_type": "text"
      },
      "source": [
        "And now let's train and evaluate a model with these features:"
      ]
    },
    {
      "cell_type": "markdown",
      "metadata": {
        "id": "ARJyLgchoZ80",
        "colab_type": "text"
      },
      "source": [
        "And now let's train and evaluate a model with these features:"
      ]
    },
    {
      "cell_type": "code",
      "metadata": {
        "id": "Aj7IXoaeob8K",
        "colab_type": "code",
        "colab": {
          "base_uri": "https://localhost:8080/",
          "height": 431
        },
        "outputId": "abbbac1a-b117-4166-e6fe-54140b5cd9f1"
      },
      "source": [
        "columns = [\n",
        "    \"cn\", \"pa\", \"tn\", # graph features\n",
        "    \"minTriangles\", \"maxTriangles\", \"minCoefficient\", \"maxCoefficient\" # triangle features  \n",
        "]\n",
        "\n",
        "X = training_df[columns]\n",
        "y = training_df[\"label\"]\n",
        "classifier.fit(X, y)\n",
        "\n",
        "predictions = classifier.predict(test_df[columns])\n",
        "y_test = test_df[\"label\"]\n",
        "\n",
        "display(evaluate_model(predictions, y_test))\n",
        "feature_importance(columns, classifier)"
      ],
      "execution_count": 103,
      "outputs": [
        {
          "output_type": "display_data",
          "data": {
            "text/html": [
              "<div>\n",
              "<style scoped>\n",
              "    .dataframe tbody tr th:only-of-type {\n",
              "        vertical-align: middle;\n",
              "    }\n",
              "\n",
              "    .dataframe tbody tr th {\n",
              "        vertical-align: top;\n",
              "    }\n",
              "\n",
              "    .dataframe thead th {\n",
              "        text-align: right;\n",
              "    }\n",
              "</style>\n",
              "<table border=\"1\" class=\"dataframe\">\n",
              "  <thead>\n",
              "    <tr style=\"text-align: right;\">\n",
              "      <th></th>\n",
              "      <th>Measure</th>\n",
              "      <th>Score</th>\n",
              "    </tr>\n",
              "  </thead>\n",
              "  <tbody>\n",
              "    <tr>\n",
              "      <th>0</th>\n",
              "      <td>Accuracy</td>\n",
              "      <td>0.908</td>\n",
              "    </tr>\n",
              "    <tr>\n",
              "      <th>1</th>\n",
              "      <td>Precision</td>\n",
              "      <td>0.935</td>\n",
              "    </tr>\n",
              "    <tr>\n",
              "      <th>2</th>\n",
              "      <td>Recall</td>\n",
              "      <td>0.877</td>\n",
              "    </tr>\n",
              "  </tbody>\n",
              "</table>\n",
              "</div>"
            ],
            "text/plain": [
              "     Measure  Score\n",
              "0   Accuracy  0.908\n",
              "1  Precision  0.935\n",
              "2     Recall  0.877"
            ]
          },
          "metadata": {
            "tags": []
          }
        },
        {
          "output_type": "display_data",
          "data": {
            "text/plain": [
              "'Feature Importance'"
            ]
          },
          "metadata": {
            "tags": []
          }
        },
        {
          "output_type": "display_data",
          "data": {
            "image/png": "[encoded data removed]",
            "text/plain": [
              "<Figure size 432x288 with 1 Axes>"
            ]
          },
          "metadata": {
            "tags": []
          }
        }
      ]
    },
    {
      "cell_type": "markdown",
      "metadata": {
        "id": "NsjDbhlOokFZ",
        "colab_type": "text"
      },
      "source": [
        "The coefficient features have not added much to our model, but the triangles are useful.\n",
        "\n",
        "All the measures of our model are now higher then before so this triangles features improved our machine learning accuracy.\n",
        "\n",
        "Next you will see if Community Detection algorithms can help improve the model."
      ]
    },
    {
      "cell_type": "markdown",
      "metadata": {
        "id": "q4vX__Wsqe2B",
        "colab_type": "text"
      },
      "source": [
        "## Community Detection\n",
        "Community Detection algorithms evaluate how a group is clustered or partitioned. Nodes are considered more similar to nodes that fall in their community than to nodes in other communities.\n",
        "\n",
        "For our matters, community detection graph algorithms would devide our social network into groups of social circles.\n",
        "People in the same circle would have strong connection to other prople in their circle.\n",
        "\n",
        "Those algorithms will teach our classifier about the conectedness of our entities in a very life-like way - Perople have big chances to become friend that are inside their social circle.\n",
        "\n",
        "You will run two Community Detection algorithms over the train and test sub-graphs - Label Propagation and Louvain. First, Label Propagation:"
      ]
    },
    {
      "cell_type": "code",
      "metadata": {
        "id": "ELnwieREt6A7",
        "colab_type": "code",
        "colab": {
          "base_uri": "https://localhost:8080/",
          "height": 100
        },
        "outputId": "43bbff3c-f38f-481a-9983-acff9d970d5f"
      },
      "source": [
        "graph.run(\"\"\"\n",
        "CALL algo.labelPropagation(\"Person\", \"RELATED_BEFORE\", \"BOTH\",\n",
        "{partitionProperty: \"partitionTrain\"});\n",
        "\"\"\").to_data_frame()"
      ],
      "execution_count": 104,
      "outputs": [
        {
          "output_type": "execute_result",
          "data": {
            "text/html": [
              "<div>\n",
              "<style scoped>\n",
              "    .dataframe tbody tr th:only-of-type {\n",
              "        vertical-align: middle;\n",
              "    }\n",
              "\n",
              "    .dataframe tbody tr th {\n",
              "        vertical-align: top;\n",
              "    }\n",
              "\n",
              "    .dataframe thead th {\n",
              "        text-align: right;\n",
              "    }\n",
              "</style>\n",
              "<table border=\"1\" class=\"dataframe\">\n",
              "  <thead>\n",
              "    <tr style=\"text-align: right;\">\n",
              "      <th></th>\n",
              "      <th>loadMillis</th>\n",
              "      <th>computeMillis</th>\n",
              "      <th>writeMillis</th>\n",
              "      <th>postProcessingMillis</th>\n",
              "      <th>nodes</th>\n",
              "      <th>communityCount</th>\n",
              "      <th>iterations</th>\n",
              "      <th>didConverge</th>\n",
              "      <th>p1</th>\n",
              "      <th>p5</th>\n",
              "      <th>p10</th>\n",
              "      <th>p25</th>\n",
              "      <th>p50</th>\n",
              "      <th>p75</th>\n",
              "      <th>p90</th>\n",
              "      <th>p95</th>\n",
              "      <th>p99</th>\n",
              "      <th>p100</th>\n",
              "      <th>weightProperty</th>\n",
              "      <th>write</th>\n",
              "      <th>partitionProperty</th>\n",
              "      <th>writeProperty</th>\n",
              "    </tr>\n",
              "  </thead>\n",
              "  <tbody>\n",
              "    <tr>\n",
              "      <th>0</th>\n",
              "      <td>42</td>\n",
              "      <td>6</td>\n",
              "      <td>0</td>\n",
              "      <td>5</td>\n",
              "      <td>800</td>\n",
              "      <td>263</td>\n",
              "      <td>1</td>\n",
              "      <td>False</td>\n",
              "      <td>1</td>\n",
              "      <td>1</td>\n",
              "      <td>1</td>\n",
              "      <td>1</td>\n",
              "      <td>1</td>\n",
              "      <td>3</td>\n",
              "      <td>7</td>\n",
              "      <td>13</td>\n",
              "      <td>21</td>\n",
              "      <td>31</td>\n",
              "      <td>weight</td>\n",
              "      <td>True</td>\n",
              "      <td>partitionTrain</td>\n",
              "      <td>partitionTrain</td>\n",
              "    </tr>\n",
              "  </tbody>\n",
              "</table>\n",
              "</div>"
            ],
            "text/plain": [
              "   loadMillis  computeMillis  ...  partitionProperty   writeProperty\n",
              "0          42              6  ...     partitionTrain  partitionTrain\n",
              "\n",
              "[1 rows x 22 columns]"
            ]
          },
          "metadata": {
            "tags": []
          },
          "execution_count": 104
        }
      ]
    },
    {
      "cell_type": "code",
      "metadata": {
        "id": "wPTAp3gZt_bU",
        "colab_type": "code",
        "colab": {
          "base_uri": "https://localhost:8080/",
          "height": 100
        },
        "outputId": "42e0e434-5be7-4df5-d92e-c73d0d1c5654"
      },
      "source": [
        "graph.run(\"\"\"\n",
        "CALL algo.labelPropagation(\"Person\", \"RELATED_AFTER\", \"BOTH\",\n",
        "{partitionProperty: \"partitionTest\"});\n",
        "\"\"\").to_data_frame()"
      ],
      "execution_count": 105,
      "outputs": [
        {
          "output_type": "execute_result",
          "data": {
            "text/html": [
              "<div>\n",
              "<style scoped>\n",
              "    .dataframe tbody tr th:only-of-type {\n",
              "        vertical-align: middle;\n",
              "    }\n",
              "\n",
              "    .dataframe tbody tr th {\n",
              "        vertical-align: top;\n",
              "    }\n",
              "\n",
              "    .dataframe thead th {\n",
              "        text-align: right;\n",
              "    }\n",
              "</style>\n",
              "<table border=\"1\" class=\"dataframe\">\n",
              "  <thead>\n",
              "    <tr style=\"text-align: right;\">\n",
              "      <th></th>\n",
              "      <th>loadMillis</th>\n",
              "      <th>computeMillis</th>\n",
              "      <th>writeMillis</th>\n",
              "      <th>postProcessingMillis</th>\n",
              "      <th>nodes</th>\n",
              "      <th>communityCount</th>\n",
              "      <th>iterations</th>\n",
              "      <th>didConverge</th>\n",
              "      <th>p1</th>\n",
              "      <th>p5</th>\n",
              "      <th>p10</th>\n",
              "      <th>p25</th>\n",
              "      <th>p50</th>\n",
              "      <th>p75</th>\n",
              "      <th>p90</th>\n",
              "      <th>p95</th>\n",
              "      <th>p99</th>\n",
              "      <th>p100</th>\n",
              "      <th>weightProperty</th>\n",
              "      <th>write</th>\n",
              "      <th>partitionProperty</th>\n",
              "      <th>writeProperty</th>\n",
              "    </tr>\n",
              "  </thead>\n",
              "  <tbody>\n",
              "    <tr>\n",
              "      <th>0</th>\n",
              "      <td>6</td>\n",
              "      <td>2</td>\n",
              "      <td>0</td>\n",
              "      <td>3</td>\n",
              "      <td>800</td>\n",
              "      <td>265</td>\n",
              "      <td>1</td>\n",
              "      <td>False</td>\n",
              "      <td>1</td>\n",
              "      <td>1</td>\n",
              "      <td>1</td>\n",
              "      <td>1</td>\n",
              "      <td>1</td>\n",
              "      <td>3</td>\n",
              "      <td>8</td>\n",
              "      <td>12</td>\n",
              "      <td>20</td>\n",
              "      <td>25</td>\n",
              "      <td>weight</td>\n",
              "      <td>True</td>\n",
              "      <td>partitionTest</td>\n",
              "      <td>partitionTest</td>\n",
              "    </tr>\n",
              "  </tbody>\n",
              "</table>\n",
              "</div>"
            ],
            "text/plain": [
              "   loadMillis  computeMillis  ...  partitionProperty  writeProperty\n",
              "0           6              2  ...      partitionTest  partitionTest\n",
              "\n",
              "[1 rows x 22 columns]"
            ]
          },
          "metadata": {
            "tags": []
          },
          "execution_count": 105
        }
      ]
    },
    {
      "cell_type": "markdown",
      "metadata": {
        "id": "sUTqUL4xuG3V",
        "colab_type": "text"
      },
      "source": [
        "And now Louvain. The Louvain algorithm returns intermediate communities, which are useful for finding fine grained communities that exist in a graph. You will add a property to each node containing the community revealed on the first iteration of the algorithm:"
      ]
    },
    {
      "cell_type": "code",
      "metadata": {
        "id": "snV5Q4C_uI4m",
        "colab_type": "code",
        "colab": {
          "base_uri": "https://localhost:8080/",
          "height": 221
        },
        "outputId": "badba7b7-4d64-4c2c-e7ba-05ae976cf959"
      },
      "source": [
        "graph.run(\"\"\"\n",
        "CALL algo.louvain.stream(\"Person\", \"RELATED_BEFORE\", {includeIntermediateCommunities:true})\n",
        "YIELD nodeId, community, communities\n",
        "WITH algo.getNodeById(nodeId) AS person, communities[0] AS smallestCommunity\n",
        "SET person.louvainTrain = smallestCommunity;\n",
        "\"\"\").stats()"
      ],
      "execution_count": 106,
      "outputs": [
        {
          "output_type": "execute_result",
          "data": {
            "text/plain": [
              "{'constraints_added': 0,\n",
              " 'constraints_removed': 0,\n",
              " 'contains_updates': True,\n",
              " 'indexes_added': 0,\n",
              " 'indexes_removed': 0,\n",
              " 'labels_added': 0,\n",
              " 'labels_removed': 0,\n",
              " 'nodes_created': 0,\n",
              " 'nodes_deleted': 0,\n",
              " 'properties_set': 800,\n",
              " 'relationships_created': 0,\n",
              " 'relationships_deleted': 0}"
            ]
          },
          "metadata": {
            "tags": []
          },
          "execution_count": 106
        }
      ]
    },
    {
      "cell_type": "code",
      "metadata": {
        "id": "-muabneTuSTN",
        "colab_type": "code",
        "colab": {
          "base_uri": "https://localhost:8080/",
          "height": 221
        },
        "outputId": "4f5c2b09-0d31-4f60-91f2-c6ef8fb2a8f5"
      },
      "source": [
        "graph.run(\"\"\"\n",
        "CALL algo.louvain.stream(\"Person\", \"RELATED_AFTER\", {includeIntermediateCommunities:true})\n",
        "YIELD nodeId, community, communities\n",
        "WITH algo.getNodeById(nodeId) AS person, communities[0] AS smallestCommunity\n",
        "SET person.louvainTest = smallestCommunity;\n",
        "\"\"\").stats()"
      ],
      "execution_count": 107,
      "outputs": [
        {
          "output_type": "execute_result",
          "data": {
            "text/plain": [
              "{'constraints_added': 0,\n",
              " 'constraints_removed': 0,\n",
              " 'contains_updates': True,\n",
              " 'indexes_added': 0,\n",
              " 'indexes_removed': 0,\n",
              " 'labels_added': 0,\n",
              " 'labels_removed': 0,\n",
              " 'nodes_created': 0,\n",
              " 'nodes_deleted': 0,\n",
              " 'properties_set': 800,\n",
              " 'relationships_created': 0,\n",
              " 'relationships_deleted': 0}"
            ]
          },
          "metadata": {
            "tags": []
          },
          "execution_count": 107
        }
      ]
    },
    {
      "cell_type": "markdown",
      "metadata": {
        "id": "eea9SMYKuYxY",
        "colab_type": "text"
      },
      "source": [
        "The following function will add these features to the train and test DataFrames:"
      ]
    },
    {
      "cell_type": "code",
      "metadata": {
        "id": "0BEkuxPXu8rU",
        "colab_type": "code",
        "colab": {}
      },
      "source": [
        "def apply_community_features(data, partition_prop, louvain_prop):\n",
        "    query = \"\"\"\n",
        "    UNWIND $pairs AS pair\n",
        "    MATCH (p1) WHERE id(p1) = pair.node1\n",
        "    MATCH (p2) WHERE id(p2) = pair.node2\n",
        "    RETURN pair.node1 AS node1,\n",
        "    pair.node2 AS node2,\n",
        "    algo.linkprediction.sameCommunity(p1, p2, $partitionProp) AS sp,    \n",
        "    algo.linkprediction.sameCommunity(p1, p2, $louvainProp) AS sl\n",
        "    \"\"\"\n",
        "    pairs = [{\"node1\": node1, \"node2\": node2}  for node1, node2 in data[[\"node1\", \"node2\"]].values.tolist()]\n",
        "    params = {\n",
        "    \"pairs\": pairs,\n",
        "    \"partitionProp\": partition_prop,\n",
        "    \"louvainProp\": louvain_prop\n",
        "    }\n",
        "    features = graph.run(query, params).to_data_frame()\n",
        "    return pd.merge(data, features, on = [\"node1\", \"node2\"])"
      ],
      "execution_count": 0,
      "outputs": []
    },
    {
      "cell_type": "code",
      "metadata": {
        "id": "P6K6DcOUvEJ6",
        "colab_type": "code",
        "colab": {}
      },
      "source": [
        "training_df = apply_community_features(training_df, \"partitionTrain\", \"louvainTrain\")\n",
        "test_df = apply_community_features(test_df, \"partitionTest\", \"louvainTest\")"
      ],
      "execution_count": 0,
      "outputs": []
    },
    {
      "cell_type": "code",
      "metadata": {
        "id": "ZK8f6szRvISK",
        "colab_type": "code",
        "colab": {}
      },
      "source": [
        "training_df.head()"
      ],
      "execution_count": 0,
      "outputs": []
    },
    {
      "cell_type": "code",
      "metadata": {
        "id": "pftqdTlsvJ8Q",
        "colab_type": "code",
        "colab": {}
      },
      "source": [
        "test_df.head()"
      ],
      "execution_count": 0,
      "outputs": []
    },
    {
      "cell_type": "code",
      "metadata": {
        "id": "fatab7GKvM0G",
        "colab_type": "code",
        "colab": {
          "base_uri": "https://localhost:8080/",
          "height": 430
        },
        "outputId": "df29ef49-f60c-40dc-e9c5-b590ebab59c8"
      },
      "source": [
        "columns = [\n",
        "    \"cn\", \"pa\", \"tn\", # graph features\n",
        "    \"minTriangles\", \"maxTriangles\", \"minCoefficient\", \"maxCoefficient\", # triangle features  \n",
        "    \"sp\", \"sl\" # community features\n",
        "]\n",
        "\n",
        "X = training_df[columns]\n",
        "y = training_df[\"label\"]\n",
        "classifier.fit(X, y)\n",
        "\n",
        "predictions = classifier.predict(test_df[columns])\n",
        "y_test = test_df[\"label\"]\n",
        "\n",
        "display(evaluate_model(predictions, y_test))\n",
        "feature_importance(columns, classifier)"
      ],
      "execution_count": 110,
      "outputs": [
        {
          "output_type": "display_data",
          "data": {
            "text/html": [
              "<div>\n",
              "<style scoped>\n",
              "    .dataframe tbody tr th:only-of-type {\n",
              "        vertical-align: middle;\n",
              "    }\n",
              "\n",
              "    .dataframe tbody tr th {\n",
              "        vertical-align: top;\n",
              "    }\n",
              "\n",
              "    .dataframe thead th {\n",
              "        text-align: right;\n",
              "    }\n",
              "</style>\n",
              "<table border=\"1\" class=\"dataframe\">\n",
              "  <thead>\n",
              "    <tr style=\"text-align: right;\">\n",
              "      <th></th>\n",
              "      <th>Measure</th>\n",
              "      <th>Score</th>\n",
              "    </tr>\n",
              "  </thead>\n",
              "  <tbody>\n",
              "    <tr>\n",
              "      <th>0</th>\n",
              "      <td>Accuracy</td>\n",
              "      <td>0.924</td>\n",
              "    </tr>\n",
              "    <tr>\n",
              "      <th>1</th>\n",
              "      <td>Precision</td>\n",
              "      <td>0.959</td>\n",
              "    </tr>\n",
              "    <tr>\n",
              "      <th>2</th>\n",
              "      <td>Recall</td>\n",
              "      <td>0.885</td>\n",
              "    </tr>\n",
              "  </tbody>\n",
              "</table>\n",
              "</div>"
            ],
            "text/plain": [
              "     Measure  Score\n",
              "0   Accuracy  0.924\n",
              "1  Precision  0.959\n",
              "2     Recall  0.885"
            ]
          },
          "metadata": {
            "tags": []
          }
        },
        {
          "output_type": "display_data",
          "data": {
            "text/plain": [
              "'Feature Importance'"
            ]
          },
          "metadata": {
            "tags": []
          }
        },
        {
          "output_type": "display_data",
          "data": {
            "image/png": "[encoded data removed]",
            "text/plain": [
              "<Figure size 432x288 with 1 Axes>"
            ]
          },
          "metadata": {
            "tags": []
          }
        }
      ]
    },
    {
      "cell_type": "markdown",
      "metadata": {
        "id": "WQrqMDECxskY",
        "colab_type": "text"
      },
      "source": [
        "Now let's add some more algorithms and see how they change our results.\n",
        "\n",
        "The next algorithms we are going to use is the link prediction algorithm AdamicAdar. This algorithm will generate a score that indicates how close two entities are in the network according to the graph topology and the way that they are represented in the network structure and what is the chance for them to be conencted."
      ]
    },
    {
      "cell_type": "code",
      "metadata": {
        "id": "WqrPd1H7zVUq",
        "colab_type": "code",
        "colab": {}
      },
      "source": [
        "def apply_adamicadar_link_prediction_feature(data, rel_type):\n",
        "    query = \"\"\"\n",
        "    UNWIND $pairs AS pair\n",
        "    MATCH (p1) WHERE id(p1) = pair.node1\n",
        "    MATCH (p2) WHERE id(p2) = pair.node2\n",
        "    RETURN pair.node1 AS node1,\n",
        "           pair.node2 AS node2,\n",
        "           algo.linkprediction.adamicAdar(\n",
        "               p1, p2, {relationshipQuery: $relType}) AS aa\n",
        "    \"\"\"\n",
        "    pairs = [{\"node1\": node1, \"node2\": node2}  for node1, node2 in data[[\"node1\", \"node2\"]].values.tolist()]\n",
        "    features = graph.run(query, {\"pairs\": pairs, \"relType\": rel_type}).to_data_frame()\n",
        "    return pd.merge(data, features, on = [\"node1\", \"node2\"])"
      ],
      "execution_count": 0,
      "outputs": []
    },
    {
      "cell_type": "code",
      "metadata": {
        "id": "Xyex2EGTzlN-",
        "colab_type": "code",
        "colab": {}
      },
      "source": [
        "training_df = apply_adamicadar_link_prediction_feature(training_df, \"RELATED_BEFORE\")\n",
        "test_df = apply_adamicadar_link_prediction_feature(test_df, \"RELATED_AFTER\")"
      ],
      "execution_count": 0,
      "outputs": []
    },
    {
      "cell_type": "code",
      "metadata": {
        "id": "UtnD5jCwzz1j",
        "colab_type": "code",
        "colab": {
          "base_uri": "https://localhost:8080/",
          "height": 204
        },
        "outputId": "772bb303-0943-4c1c-d0a9-27f4c2cf9236"
      },
      "source": [
        "training_df.head()"
      ],
      "execution_count": 113,
      "outputs": [
        {
          "output_type": "execute_result",
          "data": {
            "text/html": [
              "<div>\n",
              "<style scoped>\n",
              "    .dataframe tbody tr th:only-of-type {\n",
              "        vertical-align: middle;\n",
              "    }\n",
              "\n",
              "    .dataframe tbody tr th {\n",
              "        vertical-align: top;\n",
              "    }\n",
              "\n",
              "    .dataframe thead th {\n",
              "        text-align: right;\n",
              "    }\n",
              "</style>\n",
              "<table border=\"1\" class=\"dataframe\">\n",
              "  <thead>\n",
              "    <tr style=\"text-align: right;\">\n",
              "      <th></th>\n",
              "      <th>node1</th>\n",
              "      <th>node2</th>\n",
              "      <th>label</th>\n",
              "      <th>cn</th>\n",
              "      <th>pa</th>\n",
              "      <th>tn</th>\n",
              "      <th>minTriangles</th>\n",
              "      <th>maxTriangles</th>\n",
              "      <th>minCoefficient</th>\n",
              "      <th>maxCoefficient</th>\n",
              "      <th>sp</th>\n",
              "      <th>sl</th>\n",
              "      <th>aa</th>\n",
              "    </tr>\n",
              "  </thead>\n",
              "  <tbody>\n",
              "    <tr>\n",
              "      <th>0</th>\n",
              "      <td>229</td>\n",
              "      <td>504</td>\n",
              "      <td>0</td>\n",
              "      <td>0.000</td>\n",
              "      <td>33.000</td>\n",
              "      <td>14.000</td>\n",
              "      <td>3</td>\n",
              "      <td>39</td>\n",
              "      <td>0.709</td>\n",
              "      <td>1.000</td>\n",
              "      <td>0.000</td>\n",
              "      <td>0.000</td>\n",
              "      <td>0.000</td>\n",
              "    </tr>\n",
              "    <tr>\n",
              "      <th>1</th>\n",
              "      <td>219</td>\n",
              "      <td>750</td>\n",
              "      <td>1</td>\n",
              "      <td>3.000</td>\n",
              "      <td>50.000</td>\n",
              "      <td>12.000</td>\n",
              "      <td>7</td>\n",
              "      <td>10</td>\n",
              "      <td>0.222</td>\n",
              "      <td>0.700</td>\n",
              "      <td>1.000</td>\n",
              "      <td>1.000</td>\n",
              "      <td>1.583</td>\n",
              "    </tr>\n",
              "    <tr>\n",
              "      <th>2</th>\n",
              "      <td>749</td>\n",
              "      <td>392</td>\n",
              "      <td>0</td>\n",
              "      <td>0.000</td>\n",
              "      <td>5.000</td>\n",
              "      <td>6.000</td>\n",
              "      <td>0</td>\n",
              "      <td>10</td>\n",
              "      <td>0.000</td>\n",
              "      <td>1.000</td>\n",
              "      <td>0.000</td>\n",
              "      <td>0.000</td>\n",
              "      <td>0.000</td>\n",
              "    </tr>\n",
              "    <tr>\n",
              "      <th>3</th>\n",
              "      <td>577</td>\n",
              "      <td>781</td>\n",
              "      <td>0</td>\n",
              "      <td>1.000</td>\n",
              "      <td>66.000</td>\n",
              "      <td>16.000</td>\n",
              "      <td>10</td>\n",
              "      <td>29</td>\n",
              "      <td>0.527</td>\n",
              "      <td>0.667</td>\n",
              "      <td>0.000</td>\n",
              "      <td>0.000</td>\n",
              "      <td>0.315</td>\n",
              "    </tr>\n",
              "    <tr>\n",
              "      <th>4</th>\n",
              "      <td>81</td>\n",
              "      <td>458</td>\n",
              "      <td>1</td>\n",
              "      <td>6.000</td>\n",
              "      <td>121.000</td>\n",
              "      <td>16.000</td>\n",
              "      <td>24</td>\n",
              "      <td>28</td>\n",
              "      <td>0.436</td>\n",
              "      <td>0.509</td>\n",
              "      <td>1.000</td>\n",
              "      <td>1.000</td>\n",
              "      <td>2.572</td>\n",
              "    </tr>\n",
              "  </tbody>\n",
              "</table>\n",
              "</div>"
            ],
            "text/plain": [
              "   node1  node2 label    cn  ...  maxCoefficient    sp    sl    aa\n",
              "0    229    504     0 0.000  ...           1.000 0.000 0.000 0.000\n",
              "1    219    750     1 3.000  ...           0.700 1.000 1.000 1.583\n",
              "2    749    392     0 0.000  ...           1.000 0.000 0.000 0.000\n",
              "3    577    781     0 1.000  ...           0.667 0.000 0.000 0.315\n",
              "4     81    458     1 6.000  ...           0.509 1.000 1.000 2.572\n",
              "\n",
              "[5 rows x 13 columns]"
            ]
          },
          "metadata": {
            "tags": []
          },
          "execution_count": 113
        }
      ]
    },
    {
      "cell_type": "code",
      "metadata": {
        "id": "T0hGYjGnz1Ps",
        "colab_type": "code",
        "colab": {
          "base_uri": "https://localhost:8080/",
          "height": 204
        },
        "outputId": "8ec82623-9df5-4f61-9044-731f057cde6a"
      },
      "source": [
        "test_df.head()"
      ],
      "execution_count": 114,
      "outputs": [
        {
          "output_type": "execute_result",
          "data": {
            "text/html": [
              "<div>\n",
              "<style scoped>\n",
              "    .dataframe tbody tr th:only-of-type {\n",
              "        vertical-align: middle;\n",
              "    }\n",
              "\n",
              "    .dataframe tbody tr th {\n",
              "        vertical-align: top;\n",
              "    }\n",
              "\n",
              "    .dataframe thead th {\n",
              "        text-align: right;\n",
              "    }\n",
              "</style>\n",
              "<table border=\"1\" class=\"dataframe\">\n",
              "  <thead>\n",
              "    <tr style=\"text-align: right;\">\n",
              "      <th></th>\n",
              "      <th>node1</th>\n",
              "      <th>node2</th>\n",
              "      <th>label</th>\n",
              "      <th>cn</th>\n",
              "      <th>pa</th>\n",
              "      <th>tn</th>\n",
              "      <th>minTriangles</th>\n",
              "      <th>maxTriangles</th>\n",
              "      <th>minCoefficient</th>\n",
              "      <th>maxCoefficient</th>\n",
              "      <th>sp</th>\n",
              "      <th>sl</th>\n",
              "      <th>aa</th>\n",
              "    </tr>\n",
              "  </thead>\n",
              "  <tbody>\n",
              "    <tr>\n",
              "      <th>0</th>\n",
              "      <td>268</td>\n",
              "      <td>571</td>\n",
              "      <td>0</td>\n",
              "      <td>0.000</td>\n",
              "      <td>60.000</td>\n",
              "      <td>23.000</td>\n",
              "      <td>0</td>\n",
              "      <td>117</td>\n",
              "      <td>0.000</td>\n",
              "      <td>0.616</td>\n",
              "      <td>0.000</td>\n",
              "      <td>0.000</td>\n",
              "      <td>0.000</td>\n",
              "    </tr>\n",
              "    <tr>\n",
              "      <th>1</th>\n",
              "      <td>28</td>\n",
              "      <td>306</td>\n",
              "      <td>1</td>\n",
              "      <td>0.000</td>\n",
              "      <td>80.000</td>\n",
              "      <td>24.000</td>\n",
              "      <td>3</td>\n",
              "      <td>99</td>\n",
              "      <td>0.500</td>\n",
              "      <td>0.521</td>\n",
              "      <td>0.000</td>\n",
              "      <td>0.000</td>\n",
              "      <td>0.000</td>\n",
              "    </tr>\n",
              "    <tr>\n",
              "      <th>2</th>\n",
              "      <td>211</td>\n",
              "      <td>726</td>\n",
              "      <td>0</td>\n",
              "      <td>1.000</td>\n",
              "      <td>105.000</td>\n",
              "      <td>21.000</td>\n",
              "      <td>6</td>\n",
              "      <td>90</td>\n",
              "      <td>0.286</td>\n",
              "      <td>0.857</td>\n",
              "      <td>0.000</td>\n",
              "      <td>0.000</td>\n",
              "      <td>0.311</td>\n",
              "    </tr>\n",
              "    <tr>\n",
              "      <th>3</th>\n",
              "      <td>300</td>\n",
              "      <td>439</td>\n",
              "      <td>0</td>\n",
              "      <td>2.000</td>\n",
              "      <td>273.000</td>\n",
              "      <td>32.000</td>\n",
              "      <td>37</td>\n",
              "      <td>165</td>\n",
              "      <td>0.474</td>\n",
              "      <td>0.786</td>\n",
              "      <td>0.000</td>\n",
              "      <td>0.000</td>\n",
              "      <td>0.855</td>\n",
              "    </tr>\n",
              "    <tr>\n",
              "      <th>4</th>\n",
              "      <td>55</td>\n",
              "      <td>76</td>\n",
              "      <td>1</td>\n",
              "      <td>16.000</td>\n",
              "      <td>414.000</td>\n",
              "      <td>25.000</td>\n",
              "      <td>95</td>\n",
              "      <td>102</td>\n",
              "      <td>0.403</td>\n",
              "      <td>0.621</td>\n",
              "      <td>1.000</td>\n",
              "      <td>1.000</td>\n",
              "      <td>6.519</td>\n",
              "    </tr>\n",
              "  </tbody>\n",
              "</table>\n",
              "</div>"
            ],
            "text/plain": [
              "   node1  node2 label     cn  ...  maxCoefficient    sp    sl    aa\n",
              "0    268    571     0  0.000  ...           0.616 0.000 0.000 0.000\n",
              "1     28    306     1  0.000  ...           0.521 0.000 0.000 0.000\n",
              "2    211    726     0  1.000  ...           0.857 0.000 0.000 0.311\n",
              "3    300    439     0  2.000  ...           0.786 0.000 0.000 0.855\n",
              "4     55     76     1 16.000  ...           0.621 1.000 1.000 6.519\n",
              "\n",
              "[5 rows x 13 columns]"
            ]
          },
          "metadata": {
            "tags": []
          },
          "execution_count": 114
        }
      ]
    },
    {
      "cell_type": "code",
      "metadata": {
        "id": "pkQFBpw5z4iD",
        "colab_type": "code",
        "colab": {
          "base_uri": "https://localhost:8080/",
          "height": 431
        },
        "outputId": "9bbca09d-2985-4aa3-fe2a-8500f6e076ec"
      },
      "source": [
        "columns = [\n",
        "    \"cn\", \"pa\", \"tn\", # graph features\n",
        "    \"minTriangles\", \"maxTriangles\", \"minCoefficient\", \"maxCoefficient\", # triangle features  \n",
        "    \"sp\", \"sl\", # community features\n",
        "    \"aa\" # AdamicAdar link prediction features\n",
        "]\n",
        "\n",
        "X = training_df[columns]\n",
        "y = training_df[\"label\"]\n",
        "classifier.fit(X, y)\n",
        "\n",
        "predictions = classifier.predict(test_df[columns])\n",
        "y_test = test_df[\"label\"]\n",
        "\n",
        "display(evaluate_model(predictions, y_test))\n",
        "feature_importance(columns, classifier)"
      ],
      "execution_count": 122,
      "outputs": [
        {
          "output_type": "display_data",
          "data": {
            "text/html": [
              "<div>\n",
              "<style scoped>\n",
              "    .dataframe tbody tr th:only-of-type {\n",
              "        vertical-align: middle;\n",
              "    }\n",
              "\n",
              "    .dataframe tbody tr th {\n",
              "        vertical-align: top;\n",
              "    }\n",
              "\n",
              "    .dataframe thead th {\n",
              "        text-align: right;\n",
              "    }\n",
              "</style>\n",
              "<table border=\"1\" class=\"dataframe\">\n",
              "  <thead>\n",
              "    <tr style=\"text-align: right;\">\n",
              "      <th></th>\n",
              "      <th>Measure</th>\n",
              "      <th>Score</th>\n",
              "    </tr>\n",
              "  </thead>\n",
              "  <tbody>\n",
              "    <tr>\n",
              "      <th>0</th>\n",
              "      <td>Accuracy</td>\n",
              "      <td>0.920</td>\n",
              "    </tr>\n",
              "    <tr>\n",
              "      <th>1</th>\n",
              "      <td>Precision</td>\n",
              "      <td>0.952</td>\n",
              "    </tr>\n",
              "    <tr>\n",
              "      <th>2</th>\n",
              "      <td>Recall</td>\n",
              "      <td>0.884</td>\n",
              "    </tr>\n",
              "  </tbody>\n",
              "</table>\n",
              "</div>"
            ],
            "text/plain": [
              "     Measure  Score\n",
              "0   Accuracy  0.920\n",
              "1  Precision  0.952\n",
              "2     Recall  0.884"
            ]
          },
          "metadata": {
            "tags": []
          }
        },
        {
          "output_type": "display_data",
          "data": {
            "text/plain": [
              "'Feature Importance'"
            ]
          },
          "metadata": {
            "tags": []
          }
        },
        {
          "output_type": "display_data",
          "data": {
            "image/png": "[encoded data removed]",
            "text/plain": [
              "<Figure size 432x288 with 1 Axes>"
            ]
          },
          "metadata": {
            "tags": []
          }
        }
      ]
    },
    {
      "cell_type": "markdown",
      "metadata": {
        "id": "0lsZi5im1E7e",
        "colab_type": "text"
      },
      "source": [
        "We can see that the AdamicAdar algorithm is now the most important feature for our machine learning although it did not much changed the accuracy."
      ]
    },
    {
      "cell_type": "markdown",
      "metadata": {
        "id": "Yr_ge7tn4yOV",
        "colab_type": "text"
      },
      "source": [
        "## Centrality Algorithms\n",
        "\n",
        "The last algorithm that we will try in our machine learning model is a centrallity or importance graph algorithm called PageRank.\n",
        "\n",
        "This algorithm computes how well connected a node is in the graph and how close it is to the central mass of the network.\n",
        "\n",
        "Each node gets a score based on how important it is in the network - how many flows of connections are getting out of it which is like how social influencive a person is.\n",
        "\n",
        "We will add the score of this algorithm to our classifier"
      ]
    },
    {
      "cell_type": "code",
      "metadata": {
        "id": "xRR83iLw2-Zr",
        "colab_type": "code",
        "colab": {
          "base_uri": "https://localhost:8080/",
          "height": 80
        },
        "outputId": "3da20a51-1587-47bc-80e6-de93843db155"
      },
      "source": [
        "graph.run(\"\"\"\n",
        "CALL algo.pageRank('Person', 'RELATED_BEFORE',{\n",
        "  write: true, writeProperty:\"pagerankTrain\", weightProperty: \"value\"\n",
        "})\n",
        "YIELD nodes, iterations, loadMillis, computeMillis, writeMillis, dampingFactor, write, writeProperty\n",
        "\"\"\").to_data_frame()"
      ],
      "execution_count": 127,
      "outputs": [
        {
          "output_type": "execute_result",
          "data": {
            "text/html": [
              "<div>\n",
              "<style scoped>\n",
              "    .dataframe tbody tr th:only-of-type {\n",
              "        vertical-align: middle;\n",
              "    }\n",
              "\n",
              "    .dataframe tbody tr th {\n",
              "        vertical-align: top;\n",
              "    }\n",
              "\n",
              "    .dataframe thead th {\n",
              "        text-align: right;\n",
              "    }\n",
              "</style>\n",
              "<table border=\"1\" class=\"dataframe\">\n",
              "  <thead>\n",
              "    <tr style=\"text-align: right;\">\n",
              "      <th></th>\n",
              "      <th>nodes</th>\n",
              "      <th>iterations</th>\n",
              "      <th>loadMillis</th>\n",
              "      <th>computeMillis</th>\n",
              "      <th>writeMillis</th>\n",
              "      <th>dampingFactor</th>\n",
              "      <th>write</th>\n",
              "      <th>writeProperty</th>\n",
              "    </tr>\n",
              "  </thead>\n",
              "  <tbody>\n",
              "    <tr>\n",
              "      <th>0</th>\n",
              "      <td>800</td>\n",
              "      <td>20</td>\n",
              "      <td>9</td>\n",
              "      <td>14</td>\n",
              "      <td>3</td>\n",
              "      <td>0.850</td>\n",
              "      <td>True</td>\n",
              "      <td>pagerankTrain</td>\n",
              "    </tr>\n",
              "  </tbody>\n",
              "</table>\n",
              "</div>"
            ],
            "text/plain": [
              "   nodes  iterations  loadMillis  ...  dampingFactor  write  writeProperty\n",
              "0    800          20           9  ...          0.850   True  pagerankTrain\n",
              "\n",
              "[1 rows x 8 columns]"
            ]
          },
          "metadata": {
            "tags": []
          },
          "execution_count": 127
        }
      ]
    },
    {
      "cell_type": "code",
      "metadata": {
        "id": "Nn_2mkpN3bga",
        "colab_type": "code",
        "colab": {
          "base_uri": "https://localhost:8080/",
          "height": 80
        },
        "outputId": "d07534c8-87d6-4bf0-87c8-8b8ee7208dbe"
      },
      "source": [
        "graph.run(\"\"\"\n",
        "CALL algo.pageRank('Person', 'RELATED_AFTER',{\n",
        "  write: true, writeProperty:\"pagerankTest\", weightProperty: \"value\"\n",
        "})\n",
        "YIELD nodes, iterations, loadMillis, computeMillis, writeMillis, dampingFactor, write, writeProperty\n",
        "\"\"\").to_data_frame()"
      ],
      "execution_count": 128,
      "outputs": [
        {
          "output_type": "execute_result",
          "data": {
            "text/html": [
              "<div>\n",
              "<style scoped>\n",
              "    .dataframe tbody tr th:only-of-type {\n",
              "        vertical-align: middle;\n",
              "    }\n",
              "\n",
              "    .dataframe tbody tr th {\n",
              "        vertical-align: top;\n",
              "    }\n",
              "\n",
              "    .dataframe thead th {\n",
              "        text-align: right;\n",
              "    }\n",
              "</style>\n",
              "<table border=\"1\" class=\"dataframe\">\n",
              "  <thead>\n",
              "    <tr style=\"text-align: right;\">\n",
              "      <th></th>\n",
              "      <th>nodes</th>\n",
              "      <th>iterations</th>\n",
              "      <th>loadMillis</th>\n",
              "      <th>computeMillis</th>\n",
              "      <th>writeMillis</th>\n",
              "      <th>dampingFactor</th>\n",
              "      <th>write</th>\n",
              "      <th>writeProperty</th>\n",
              "    </tr>\n",
              "  </thead>\n",
              "  <tbody>\n",
              "    <tr>\n",
              "      <th>0</th>\n",
              "      <td>800</td>\n",
              "      <td>20</td>\n",
              "      <td>4</td>\n",
              "      <td>3</td>\n",
              "      <td>9</td>\n",
              "      <td>0.850</td>\n",
              "      <td>True</td>\n",
              "      <td>pagerankTest</td>\n",
              "    </tr>\n",
              "  </tbody>\n",
              "</table>\n",
              "</div>"
            ],
            "text/plain": [
              "   nodes  iterations  loadMillis  ...  dampingFactor  write  writeProperty\n",
              "0    800          20           4  ...          0.850   True   pagerankTest\n",
              "\n",
              "[1 rows x 8 columns]"
            ]
          },
          "metadata": {
            "tags": []
          },
          "execution_count": 128
        }
      ]
    },
    {
      "cell_type": "code",
      "metadata": {
        "id": "6JB8K0XP3hzQ",
        "colab_type": "code",
        "colab": {}
      },
      "source": [
        "def apply_centrallity_features(data, pagerank_prop):\n",
        "    query = \"\"\"\n",
        "    UNWIND $pairs AS pair\n",
        "    MATCH (p1) WHERE id(p1) = pair.node1\n",
        "    MATCH (p2) WHERE id(p2) = pair.node2\n",
        "    RETURN pair.node1 AS node1,\n",
        "    pair.node2 AS node2,\n",
        "    apoc.coll.min([p1[$pagerank_prop], p2[$pagerank_prop]]) AS minPagerank,\n",
        "    apoc.coll.max([p1[$pagerank_prop], p2[$pagerank_prop]]) AS maxPagerank\n",
        "    \"\"\"    \n",
        "    pairs = [{\"node1\": node1, \"node2\": node2}  for node1, node2 in data[[\"node1\", \"node2\"]].values.tolist()]    \n",
        "    params = {\n",
        "    \"pairs\": pairs,\n",
        "    \"pagerank_prop\": pagerank_prop\n",
        "    }\n",
        "    features = graph.run(query, params).to_data_frame()    \n",
        "    return pd.merge(data, features, on = [\"node1\", \"node2\"])"
      ],
      "execution_count": 0,
      "outputs": []
    },
    {
      "cell_type": "code",
      "metadata": {
        "id": "K0DWQPaV38W9",
        "colab_type": "code",
        "colab": {}
      },
      "source": [
        "training_df = apply_centrallity_features(training_df, \"pagerankTrain\")\n",
        "test_df = apply_centrallity_features(test_df, \"pagerankTest\")"
      ],
      "execution_count": 0,
      "outputs": []
    },
    {
      "cell_type": "code",
      "metadata": {
        "id": "9J3ZOIbM4Qsd",
        "colab_type": "code",
        "colab": {
          "base_uri": "https://localhost:8080/",
          "height": 224
        },
        "outputId": "4eddfb47-3825-4cda-8857-b7f56a1d773d"
      },
      "source": [
        "training_df.head()"
      ],
      "execution_count": 130,
      "outputs": [
        {
          "output_type": "execute_result",
          "data": {
            "text/html": [
              "<div>\n",
              "<style scoped>\n",
              "    .dataframe tbody tr th:only-of-type {\n",
              "        vertical-align: middle;\n",
              "    }\n",
              "\n",
              "    .dataframe tbody tr th {\n",
              "        vertical-align: top;\n",
              "    }\n",
              "\n",
              "    .dataframe thead th {\n",
              "        text-align: right;\n",
              "    }\n",
              "</style>\n",
              "<table border=\"1\" class=\"dataframe\">\n",
              "  <thead>\n",
              "    <tr style=\"text-align: right;\">\n",
              "      <th></th>\n",
              "      <th>node1</th>\n",
              "      <th>node2</th>\n",
              "      <th>label</th>\n",
              "      <th>cn</th>\n",
              "      <th>pa</th>\n",
              "      <th>tn</th>\n",
              "      <th>minTriangles</th>\n",
              "      <th>maxTriangles</th>\n",
              "      <th>minCoefficient</th>\n",
              "      <th>maxCoefficient</th>\n",
              "      <th>sp</th>\n",
              "      <th>sl</th>\n",
              "      <th>aa</th>\n",
              "      <th>minPagerank</th>\n",
              "      <th>maxPagerank</th>\n",
              "    </tr>\n",
              "  </thead>\n",
              "  <tbody>\n",
              "    <tr>\n",
              "      <th>0</th>\n",
              "      <td>229</td>\n",
              "      <td>504</td>\n",
              "      <td>0</td>\n",
              "      <td>0.000</td>\n",
              "      <td>33.000</td>\n",
              "      <td>14.000</td>\n",
              "      <td>3</td>\n",
              "      <td>39</td>\n",
              "      <td>0.709</td>\n",
              "      <td>1.000</td>\n",
              "      <td>0.000</td>\n",
              "      <td>0.000</td>\n",
              "      <td>0.000</td>\n",
              "      <td>0.150</td>\n",
              "      <td>0.260</td>\n",
              "    </tr>\n",
              "    <tr>\n",
              "      <th>1</th>\n",
              "      <td>219</td>\n",
              "      <td>750</td>\n",
              "      <td>1</td>\n",
              "      <td>3.000</td>\n",
              "      <td>50.000</td>\n",
              "      <td>12.000</td>\n",
              "      <td>7</td>\n",
              "      <td>10</td>\n",
              "      <td>0.222</td>\n",
              "      <td>0.700</td>\n",
              "      <td>1.000</td>\n",
              "      <td>1.000</td>\n",
              "      <td>1.583</td>\n",
              "      <td>0.343</td>\n",
              "      <td>0.802</td>\n",
              "    </tr>\n",
              "    <tr>\n",
              "      <th>2</th>\n",
              "      <td>749</td>\n",
              "      <td>392</td>\n",
              "      <td>0</td>\n",
              "      <td>0.000</td>\n",
              "      <td>5.000</td>\n",
              "      <td>6.000</td>\n",
              "      <td>0</td>\n",
              "      <td>10</td>\n",
              "      <td>0.000</td>\n",
              "      <td>1.000</td>\n",
              "      <td>0.000</td>\n",
              "      <td>0.000</td>\n",
              "      <td>0.000</td>\n",
              "      <td>0.150</td>\n",
              "      <td>0.730</td>\n",
              "    </tr>\n",
              "    <tr>\n",
              "      <th>3</th>\n",
              "      <td>577</td>\n",
              "      <td>781</td>\n",
              "      <td>0</td>\n",
              "      <td>1.000</td>\n",
              "      <td>66.000</td>\n",
              "      <td>16.000</td>\n",
              "      <td>10</td>\n",
              "      <td>29</td>\n",
              "      <td>0.527</td>\n",
              "      <td>0.667</td>\n",
              "      <td>0.000</td>\n",
              "      <td>0.000</td>\n",
              "      <td>0.315</td>\n",
              "      <td>0.255</td>\n",
              "      <td>0.466</td>\n",
              "    </tr>\n",
              "    <tr>\n",
              "      <th>4</th>\n",
              "      <td>81</td>\n",
              "      <td>458</td>\n",
              "      <td>1</td>\n",
              "      <td>6.000</td>\n",
              "      <td>121.000</td>\n",
              "      <td>16.000</td>\n",
              "      <td>24</td>\n",
              "      <td>28</td>\n",
              "      <td>0.436</td>\n",
              "      <td>0.509</td>\n",
              "      <td>1.000</td>\n",
              "      <td>1.000</td>\n",
              "      <td>2.572</td>\n",
              "      <td>0.168</td>\n",
              "      <td>0.300</td>\n",
              "    </tr>\n",
              "  </tbody>\n",
              "</table>\n",
              "</div>"
            ],
            "text/plain": [
              "   node1  node2 label    cn      pa  ...    sp    sl    aa  minPagerank  maxPagerank\n",
              "0    229    504     0 0.000  33.000  ... 0.000 0.000 0.000        0.150        0.260\n",
              "1    219    750     1 3.000  50.000  ... 1.000 1.000 1.583        0.343        0.802\n",
              "2    749    392     0 0.000   5.000  ... 0.000 0.000 0.000        0.150        0.730\n",
              "3    577    781     0 1.000  66.000  ... 0.000 0.000 0.315        0.255        0.466\n",
              "4     81    458     1 6.000 121.000  ... 1.000 1.000 2.572        0.168        0.300\n",
              "\n",
              "[5 rows x 15 columns]"
            ]
          },
          "metadata": {
            "tags": []
          },
          "execution_count": 130
        }
      ]
    },
    {
      "cell_type": "code",
      "metadata": {
        "id": "C8gsjJtG4Sp_",
        "colab_type": "code",
        "colab": {
          "base_uri": "https://localhost:8080/",
          "height": 224
        },
        "outputId": "09a30bb0-c63c-4460-fe52-8b2085ecce90"
      },
      "source": [
        "test_df.head()"
      ],
      "execution_count": 131,
      "outputs": [
        {
          "output_type": "execute_result",
          "data": {
            "text/html": [
              "<div>\n",
              "<style scoped>\n",
              "    .dataframe tbody tr th:only-of-type {\n",
              "        vertical-align: middle;\n",
              "    }\n",
              "\n",
              "    .dataframe tbody tr th {\n",
              "        vertical-align: top;\n",
              "    }\n",
              "\n",
              "    .dataframe thead th {\n",
              "        text-align: right;\n",
              "    }\n",
              "</style>\n",
              "<table border=\"1\" class=\"dataframe\">\n",
              "  <thead>\n",
              "    <tr style=\"text-align: right;\">\n",
              "      <th></th>\n",
              "      <th>node1</th>\n",
              "      <th>node2</th>\n",
              "      <th>label</th>\n",
              "      <th>cn</th>\n",
              "      <th>pa</th>\n",
              "      <th>tn</th>\n",
              "      <th>minTriangles</th>\n",
              "      <th>maxTriangles</th>\n",
              "      <th>minCoefficient</th>\n",
              "      <th>maxCoefficient</th>\n",
              "      <th>sp</th>\n",
              "      <th>sl</th>\n",
              "      <th>aa</th>\n",
              "      <th>minPagerank</th>\n",
              "      <th>maxPagerank</th>\n",
              "    </tr>\n",
              "  </thead>\n",
              "  <tbody>\n",
              "    <tr>\n",
              "      <th>0</th>\n",
              "      <td>268</td>\n",
              "      <td>571</td>\n",
              "      <td>0</td>\n",
              "      <td>0.000</td>\n",
              "      <td>60.000</td>\n",
              "      <td>23.000</td>\n",
              "      <td>0</td>\n",
              "      <td>117</td>\n",
              "      <td>0.000</td>\n",
              "      <td>0.616</td>\n",
              "      <td>0.000</td>\n",
              "      <td>0.000</td>\n",
              "      <td>0.000</td>\n",
              "      <td>0.187</td>\n",
              "      <td>0.316</td>\n",
              "    </tr>\n",
              "    <tr>\n",
              "      <th>1</th>\n",
              "      <td>28</td>\n",
              "      <td>306</td>\n",
              "      <td>1</td>\n",
              "      <td>0.000</td>\n",
              "      <td>80.000</td>\n",
              "      <td>24.000</td>\n",
              "      <td>3</td>\n",
              "      <td>99</td>\n",
              "      <td>0.500</td>\n",
              "      <td>0.521</td>\n",
              "      <td>0.000</td>\n",
              "      <td>0.000</td>\n",
              "      <td>0.000</td>\n",
              "      <td>0.150</td>\n",
              "      <td>0.435</td>\n",
              "    </tr>\n",
              "    <tr>\n",
              "      <th>2</th>\n",
              "      <td>211</td>\n",
              "      <td>726</td>\n",
              "      <td>0</td>\n",
              "      <td>1.000</td>\n",
              "      <td>105.000</td>\n",
              "      <td>21.000</td>\n",
              "      <td>6</td>\n",
              "      <td>90</td>\n",
              "      <td>0.286</td>\n",
              "      <td>0.857</td>\n",
              "      <td>0.000</td>\n",
              "      <td>0.000</td>\n",
              "      <td>0.311</td>\n",
              "      <td>0.157</td>\n",
              "      <td>0.662</td>\n",
              "    </tr>\n",
              "    <tr>\n",
              "      <th>3</th>\n",
              "      <td>300</td>\n",
              "      <td>439</td>\n",
              "      <td>0</td>\n",
              "      <td>2.000</td>\n",
              "      <td>273.000</td>\n",
              "      <td>32.000</td>\n",
              "      <td>37</td>\n",
              "      <td>165</td>\n",
              "      <td>0.474</td>\n",
              "      <td>0.786</td>\n",
              "      <td>0.000</td>\n",
              "      <td>0.000</td>\n",
              "      <td>0.855</td>\n",
              "      <td>0.230</td>\n",
              "      <td>0.329</td>\n",
              "    </tr>\n",
              "    <tr>\n",
              "      <th>4</th>\n",
              "      <td>55</td>\n",
              "      <td>76</td>\n",
              "      <td>1</td>\n",
              "      <td>16.000</td>\n",
              "      <td>414.000</td>\n",
              "      <td>25.000</td>\n",
              "      <td>95</td>\n",
              "      <td>102</td>\n",
              "      <td>0.403</td>\n",
              "      <td>0.621</td>\n",
              "      <td>1.000</td>\n",
              "      <td>1.000</td>\n",
              "      <td>6.519</td>\n",
              "      <td>0.150</td>\n",
              "      <td>0.236</td>\n",
              "    </tr>\n",
              "  </tbody>\n",
              "</table>\n",
              "</div>"
            ],
            "text/plain": [
              "   node1  node2 label     cn  ...    sl    aa  minPagerank  maxPagerank\n",
              "0    268    571     0  0.000  ... 0.000 0.000        0.187        0.316\n",
              "1     28    306     1  0.000  ... 0.000 0.000        0.150        0.435\n",
              "2    211    726     0  1.000  ... 0.000 0.311        0.157        0.662\n",
              "3    300    439     0  2.000  ... 0.000 0.855        0.230        0.329\n",
              "4     55     76     1 16.000  ... 1.000 6.519        0.150        0.236\n",
              "\n",
              "[5 rows x 15 columns]"
            ]
          },
          "metadata": {
            "tags": []
          },
          "execution_count": 131
        }
      ]
    },
    {
      "cell_type": "code",
      "metadata": {
        "id": "nRJdOaRV4X8e",
        "colab_type": "code",
        "colab": {
          "base_uri": "https://localhost:8080/",
          "height": 430
        },
        "outputId": "3a96f06c-fbbb-48fc-c823-59b0d7476e55"
      },
      "source": [
        "columns = [\n",
        "    \"cn\", \"pa\", \"tn\", # graph features\n",
        "    \"minTriangles\", \"maxTriangles\", \"minCoefficient\", \"maxCoefficient\", # triangle features  \n",
        "    \"sp\", \"sl\", # community features\n",
        "    \"aa\", # AdamicAdar link prediction features\n",
        "    \"minPagerank\", \"maxPagerank\" # Centrallity features\n",
        "]\n",
        "\n",
        "X = training_df[columns]\n",
        "y = training_df[\"label\"]\n",
        "classifier.fit(X, y)\n",
        "\n",
        "predictions = classifier.predict(test_df[columns])\n",
        "y_test = test_df[\"label\"]\n",
        "\n",
        "display(evaluate_model(predictions, y_test))\n",
        "feature_importance(columns, classifier)"
      ],
      "execution_count": 132,
      "outputs": [
        {
          "output_type": "display_data",
          "data": {
            "text/html": [
              "<div>\n",
              "<style scoped>\n",
              "    .dataframe tbody tr th:only-of-type {\n",
              "        vertical-align: middle;\n",
              "    }\n",
              "\n",
              "    .dataframe tbody tr th {\n",
              "        vertical-align: top;\n",
              "    }\n",
              "\n",
              "    .dataframe thead th {\n",
              "        text-align: right;\n",
              "    }\n",
              "</style>\n",
              "<table border=\"1\" class=\"dataframe\">\n",
              "  <thead>\n",
              "    <tr style=\"text-align: right;\">\n",
              "      <th></th>\n",
              "      <th>Measure</th>\n",
              "      <th>Score</th>\n",
              "    </tr>\n",
              "  </thead>\n",
              "  <tbody>\n",
              "    <tr>\n",
              "      <th>0</th>\n",
              "      <td>Accuracy</td>\n",
              "      <td>0.920</td>\n",
              "    </tr>\n",
              "    <tr>\n",
              "      <th>1</th>\n",
              "      <td>Precision</td>\n",
              "      <td>0.954</td>\n",
              "    </tr>\n",
              "    <tr>\n",
              "      <th>2</th>\n",
              "      <td>Recall</td>\n",
              "      <td>0.883</td>\n",
              "    </tr>\n",
              "  </tbody>\n",
              "</table>\n",
              "</div>"
            ],
            "text/plain": [
              "     Measure  Score\n",
              "0   Accuracy  0.920\n",
              "1  Precision  0.954\n",
              "2     Recall  0.883"
            ]
          },
          "metadata": {
            "tags": []
          }
        },
        {
          "output_type": "display_data",
          "data": {
            "text/plain": [
              "'Feature Importance'"
            ]
          },
          "metadata": {
            "tags": []
          }
        },
        {
          "output_type": "display_data",
          "data": {
            "image/png": "[encoded data removed]",
            "text/plain": [
              "<Figure size 432x288 with 1 Axes>"
            ]
          },
          "metadata": {
            "tags": []
          }
        }
      ]
    },
    {
      "cell_type": "markdown",
      "metadata": {
        "id": "j02Xc4Fc5wNj",
        "colab_type": "text"
      },
      "source": [
        "In this point we can play a little with our model and try to remove some algorithms to see how the machine learning accuracy changes.\n",
        "\n",
        "Then we can come up with the right amount of algorithms for the best accuracy.\n",
        "\n",
        "In addition, removing too much algorithms is not so good even if the accuracy raises because less algorithm types mean less flexability for our model to predict different structures of networks so the right balance between accuracy and flexability is need to be found."
      ]
    },
    {
      "cell_type": "markdown",
      "metadata": {
        "id": "8_IyWt_26qgS",
        "colab_type": "text"
      },
      "source": [
        "### Summary\n",
        "\n",
        "We built a machine learning model based on feature we extracted from our graph database.\n",
        "\n",
        "The extracted features are scores generated by graph algorithms that computed the possiblity of two nodes to be connected or for a specific node to gain new connections.\n",
        "\n",
        "Thanks to the social network formed from our graph database the scores are highly reality-like in predicting relationships between new human-beings.\n",
        "\n",
        "The algorithms took into acount how many friends one have, how influencive he is in the social network, how many common friends there are between two people, what are the social circles designed from the graph and what circle each one is part of, how likely a person to connect to of his friends to each other, etc.\n",
        "\n",
        "All of this network learning gained us the availability to know how likely two people are to get connected in the near future.\n",
        "\n",
        "Then we entered all of those scores into our machine learning classifier and let it learn the patterns.\n",
        "\n",
        "After that we tested the classifier with our test sub-graph and checked our accuracy, precision and recal with the importance of each feature in the model."
      ]
    }
  ]
}